{
 "cells": [
  {
   "cell_type": "code",
   "execution_count": 1,
   "id": "preliminary-bottle",
   "metadata": {},
   "outputs": [],
   "source": [
    "import pandas as pd\n",
    "import matplotlib as mlt\n",
    "import numpy as np\n",
    "import matplotlib.pyplot as plt"
   ]
  },
  {
   "cell_type": "code",
   "execution_count": 2,
   "id": "bottom-burlington",
   "metadata": {},
   "outputs": [],
   "source": [
    "data = pd.read_csv(\"GSE76896_ALL.csv\")"
   ]
  },
  {
   "cell_type": "code",
   "execution_count": 3,
   "id": "developed-neighbor",
   "metadata": {},
   "outputs": [
    {
     "data": {
      "text/html": [
       "<div>\n",
       "<style scoped>\n",
       "    .dataframe tbody tr th:only-of-type {\n",
       "        vertical-align: middle;\n",
       "    }\n",
       "\n",
       "    .dataframe tbody tr th {\n",
       "        vertical-align: top;\n",
       "    }\n",
       "\n",
       "    .dataframe thead th {\n",
       "        text-align: right;\n",
       "    }\n",
       "</style>\n",
       "<table border=\"1\" class=\"dataframe\">\n",
       "  <thead>\n",
       "    <tr style=\"text-align: right;\">\n",
       "      <th></th>\n",
       "      <th>n</th>\n",
       "      <th>g_id</th>\n",
       "      <th>g_exo</th>\n",
       "      <th>status</th>\n",
       "      <th>sample</th>\n",
       "      <th>cohort</th>\n",
       "    </tr>\n",
       "  </thead>\n",
       "  <tbody>\n",
       "    <tr>\n",
       "      <th>0</th>\n",
       "      <td>1</td>\n",
       "      <td>1007_s_at&lt;-&gt;DDR1 /// MIR4640</td>\n",
       "      <td>11.525486</td>\n",
       "      <td>T2D</td>\n",
       "      <td>GSM2040049</td>\n",
       "      <td>organ donor</td>\n",
       "    </tr>\n",
       "    <tr>\n",
       "      <th>1</th>\n",
       "      <td>2</td>\n",
       "      <td>1007_s_at&lt;-&gt;DDR1 /// MIR4640</td>\n",
       "      <td>12.065558</td>\n",
       "      <td>T2D</td>\n",
       "      <td>GSM2040050</td>\n",
       "      <td>organ donor</td>\n",
       "    </tr>\n",
       "    <tr>\n",
       "      <th>2</th>\n",
       "      <td>3</td>\n",
       "      <td>1007_s_at&lt;-&gt;DDR1 /// MIR4640</td>\n",
       "      <td>12.241492</td>\n",
       "      <td>ND</td>\n",
       "      <td>GSM2040051</td>\n",
       "      <td>organ donor</td>\n",
       "    </tr>\n",
       "    <tr>\n",
       "      <th>3</th>\n",
       "      <td>4</td>\n",
       "      <td>1007_s_at&lt;-&gt;DDR1 /// MIR4640</td>\n",
       "      <td>12.136862</td>\n",
       "      <td>ND</td>\n",
       "      <td>GSM2040052</td>\n",
       "      <td>organ donor</td>\n",
       "    </tr>\n",
       "    <tr>\n",
       "      <th>4</th>\n",
       "      <td>5</td>\n",
       "      <td>1007_s_at&lt;-&gt;DDR1 /// MIR4640</td>\n",
       "      <td>11.877510</td>\n",
       "      <td>T2D</td>\n",
       "      <td>GSM2040053</td>\n",
       "      <td>organ donor</td>\n",
       "    </tr>\n",
       "  </tbody>\n",
       "</table>\n",
       "</div>"
      ],
      "text/plain": [
       "   n                          g_id      g_exo status      sample       cohort\n",
       "0  1  1007_s_at<->DDR1 /// MIR4640  11.525486    T2D  GSM2040049  organ donor\n",
       "1  2  1007_s_at<->DDR1 /// MIR4640  12.065558    T2D  GSM2040050  organ donor\n",
       "2  3  1007_s_at<->DDR1 /// MIR4640  12.241492     ND  GSM2040051  organ donor\n",
       "3  4  1007_s_at<->DDR1 /// MIR4640  12.136862     ND  GSM2040052  organ donor\n",
       "4  5  1007_s_at<->DDR1 /// MIR4640  11.877510    T2D  GSM2040053  organ donor"
      ]
     },
     "execution_count": 3,
     "metadata": {},
     "output_type": "execute_result"
    }
   ],
   "source": [
    "data.head()"
   ]
  },
  {
   "cell_type": "code",
   "execution_count": 7,
   "id": "social-death",
   "metadata": {},
   "outputs": [
    {
     "data": {
      "text/plain": [
       "(31569,)"
      ]
     },
     "execution_count": 7,
     "metadata": {},
     "output_type": "execute_result"
    }
   ],
   "source": [
    "data[\"g_id\"].value_counts().shape"
   ]
  },
  {
   "cell_type": "code",
   "execution_count": 4,
   "id": "silver-torture",
   "metadata": {},
   "outputs": [],
   "source": [
    "# concat\n",
    "data['label'] = data['status'] + '-' + data['cohort']"
   ]
  },
  {
   "cell_type": "code",
   "execution_count": 10,
   "id": "infinite-tulsa",
   "metadata": {},
   "outputs": [],
   "source": [
    "def label_maker(x):\n",
    "    if x == 'ND-organ donor':\n",
    "        return 1\n",
    "    elif x == 'ND-partially pancreatectomized patient':\n",
    "        return 2\n",
    "    elif x == 'T2D-organ donor':\n",
    "        return 3\n",
    "    elif x == 'T2D-partially pancreatectomized patient':\n",
    "        return 4\n",
    "    \n",
    "    "
   ]
  },
  {
   "cell_type": "code",
   "execution_count": 11,
   "id": "billion-dominican",
   "metadata": {},
   "outputs": [
    {
     "data": {
      "text/html": [
       "<div>\n",
       "<style scoped>\n",
       "    .dataframe tbody tr th:only-of-type {\n",
       "        vertical-align: middle;\n",
       "    }\n",
       "\n",
       "    .dataframe tbody tr th {\n",
       "        vertical-align: top;\n",
       "    }\n",
       "\n",
       "    .dataframe thead th {\n",
       "        text-align: right;\n",
       "    }\n",
       "</style>\n",
       "<table border=\"1\" class=\"dataframe\">\n",
       "  <thead>\n",
       "    <tr style=\"text-align: right;\">\n",
       "      <th></th>\n",
       "      <th>n</th>\n",
       "      <th>g_id</th>\n",
       "      <th>g_exo</th>\n",
       "      <th>status</th>\n",
       "      <th>sample</th>\n",
       "      <th>cohort</th>\n",
       "      <th>label</th>\n",
       "      <th>y</th>\n",
       "    </tr>\n",
       "  </thead>\n",
       "  <tbody>\n",
       "    <tr>\n",
       "      <th>0</th>\n",
       "      <td>1</td>\n",
       "      <td>1007_s_at&lt;-&gt;DDR1 /// MIR4640</td>\n",
       "      <td>11.525486</td>\n",
       "      <td>T2D</td>\n",
       "      <td>GSM2040049</td>\n",
       "      <td>organ donor</td>\n",
       "      <td>T2D-organ donor</td>\n",
       "      <td>3</td>\n",
       "    </tr>\n",
       "    <tr>\n",
       "      <th>1</th>\n",
       "      <td>2</td>\n",
       "      <td>1007_s_at&lt;-&gt;DDR1 /// MIR4640</td>\n",
       "      <td>12.065558</td>\n",
       "      <td>T2D</td>\n",
       "      <td>GSM2040050</td>\n",
       "      <td>organ donor</td>\n",
       "      <td>T2D-organ donor</td>\n",
       "      <td>3</td>\n",
       "    </tr>\n",
       "    <tr>\n",
       "      <th>2</th>\n",
       "      <td>3</td>\n",
       "      <td>1007_s_at&lt;-&gt;DDR1 /// MIR4640</td>\n",
       "      <td>12.241492</td>\n",
       "      <td>ND</td>\n",
       "      <td>GSM2040051</td>\n",
       "      <td>organ donor</td>\n",
       "      <td>ND-organ donor</td>\n",
       "      <td>1</td>\n",
       "    </tr>\n",
       "    <tr>\n",
       "      <th>3</th>\n",
       "      <td>4</td>\n",
       "      <td>1007_s_at&lt;-&gt;DDR1 /// MIR4640</td>\n",
       "      <td>12.136862</td>\n",
       "      <td>ND</td>\n",
       "      <td>GSM2040052</td>\n",
       "      <td>organ donor</td>\n",
       "      <td>ND-organ donor</td>\n",
       "      <td>1</td>\n",
       "    </tr>\n",
       "    <tr>\n",
       "      <th>4</th>\n",
       "      <td>5</td>\n",
       "      <td>1007_s_at&lt;-&gt;DDR1 /// MIR4640</td>\n",
       "      <td>11.877510</td>\n",
       "      <td>T2D</td>\n",
       "      <td>GSM2040053</td>\n",
       "      <td>organ donor</td>\n",
       "      <td>T2D-organ donor</td>\n",
       "      <td>3</td>\n",
       "    </tr>\n",
       "  </tbody>\n",
       "</table>\n",
       "</div>"
      ],
      "text/plain": [
       "   n                          g_id      g_exo status      sample       cohort  \\\n",
       "0  1  1007_s_at<->DDR1 /// MIR4640  11.525486    T2D  GSM2040049  organ donor   \n",
       "1  2  1007_s_at<->DDR1 /// MIR4640  12.065558    T2D  GSM2040050  organ donor   \n",
       "2  3  1007_s_at<->DDR1 /// MIR4640  12.241492     ND  GSM2040051  organ donor   \n",
       "3  4  1007_s_at<->DDR1 /// MIR4640  12.136862     ND  GSM2040052  organ donor   \n",
       "4  5  1007_s_at<->DDR1 /// MIR4640  11.877510    T2D  GSM2040053  organ donor   \n",
       "\n",
       "             label  y  \n",
       "0  T2D-organ donor  3  \n",
       "1  T2D-organ donor  3  \n",
       "2   ND-organ donor  1  \n",
       "3   ND-organ donor  1  \n",
       "4  T2D-organ donor  3  "
      ]
     },
     "execution_count": 11,
     "metadata": {},
     "output_type": "execute_result"
    }
   ],
   "source": [
    "data['label'].value_counts()\n",
    "data['y'] = data['label'].apply(label_maker)\n",
    "data.head()"
   ]
  },
  {
   "cell_type": "code",
   "execution_count": 139,
   "id": "vulnerable-performer",
   "metadata": {},
   "outputs": [],
   "source": [
    "# sample_df=data[data[\"sample\"].isin([\"GSM2040049\",\"GSM2040050\",\"GSM2040051\",\"GSM2040052\",\"GSM2040053\"])]"
   ]
  },
  {
   "cell_type": "code",
   "execution_count": 12,
   "id": "continuous-croatia",
   "metadata": {},
   "outputs": [
    {
     "data": {
      "text/plain": [
       "(5398299, 8)"
      ]
     },
     "execution_count": 12,
     "metadata": {},
     "output_type": "execute_result"
    }
   ],
   "source": [
    "data.shape"
   ]
  },
  {
   "cell_type": "code",
   "execution_count": 25,
   "id": "historical-judgment",
   "metadata": {},
   "outputs": [],
   "source": [
    "# sdfp =sample_df.pivot(index='g_id', columns='sample', values='g_exo')\n",
    "sdfp = data.pivot(index=['sample','y'], columns='g_id', values='g_exo')"
   ]
  },
  {
   "cell_type": "code",
   "execution_count": 26,
   "id": "standing-guinea",
   "metadata": {},
   "outputs": [],
   "source": [
    "sdfp=sdfp.reset_index()"
   ]
  },
  {
   "cell_type": "code",
   "execution_count": 27,
   "id": "enhanced-dryer",
   "metadata": {},
   "outputs": [
    {
     "data": {
      "text/html": [
       "<div>\n",
       "<style scoped>\n",
       "    .dataframe tbody tr th:only-of-type {\n",
       "        vertical-align: middle;\n",
       "    }\n",
       "\n",
       "    .dataframe tbody tr th {\n",
       "        vertical-align: top;\n",
       "    }\n",
       "\n",
       "    .dataframe thead th {\n",
       "        text-align: right;\n",
       "    }\n",
       "</style>\n",
       "<table border=\"1\" class=\"dataframe\">\n",
       "  <thead>\n",
       "    <tr style=\"text-align: right;\">\n",
       "      <th>g_id</th>\n",
       "      <th>y</th>\n",
       "      <th>1007_s_at&lt;-&gt;DDR1 /// MIR4640</th>\n",
       "      <th>1053_at&lt;-&gt;RFC2</th>\n",
       "      <th>117_at&lt;-&gt;HSPA6</th>\n",
       "      <th>121_at&lt;-&gt;PAX8</th>\n",
       "      <th>1294_at&lt;-&gt;MIR5193 /// UBA7</th>\n",
       "      <th>1316_at&lt;-&gt;THRA</th>\n",
       "      <th>1320_at&lt;-&gt;PTPN21</th>\n",
       "      <th>1431_at&lt;-&gt;CYP2E1</th>\n",
       "      <th>1487_at&lt;-&gt;ESRRA</th>\n",
       "      <th>...</th>\n",
       "      <th>AFFX-hum_alu_at&lt;-&gt;nan</th>\n",
       "      <th>AFFX-r2-Ec-bioB-3_at&lt;-&gt;nan</th>\n",
       "      <th>AFFX-r2-Ec-bioB-5_at&lt;-&gt;nan</th>\n",
       "      <th>AFFX-r2-Ec-bioB-M_at&lt;-&gt;nan</th>\n",
       "      <th>AFFX-r2-Ec-bioC-3_at&lt;-&gt;nan</th>\n",
       "      <th>AFFX-r2-Ec-bioC-5_at&lt;-&gt;nan</th>\n",
       "      <th>AFFX-r2-Ec-bioD-3_at&lt;-&gt;nan</th>\n",
       "      <th>AFFX-r2-Ec-bioD-5_at&lt;-&gt;nan</th>\n",
       "      <th>AFFX-r2-P1-cre-3_at&lt;-&gt;nan</th>\n",
       "      <th>AFFX-r2-P1-cre-5_at&lt;-&gt;nan</th>\n",
       "    </tr>\n",
       "    <tr>\n",
       "      <th>sample</th>\n",
       "      <th></th>\n",
       "      <th></th>\n",
       "      <th></th>\n",
       "      <th></th>\n",
       "      <th></th>\n",
       "      <th></th>\n",
       "      <th></th>\n",
       "      <th></th>\n",
       "      <th></th>\n",
       "      <th></th>\n",
       "      <th></th>\n",
       "      <th></th>\n",
       "      <th></th>\n",
       "      <th></th>\n",
       "      <th></th>\n",
       "      <th></th>\n",
       "      <th></th>\n",
       "      <th></th>\n",
       "      <th></th>\n",
       "      <th></th>\n",
       "      <th></th>\n",
       "    </tr>\n",
       "  </thead>\n",
       "  <tbody>\n",
       "    <tr>\n",
       "      <th>GSM2040049</th>\n",
       "      <td>3</td>\n",
       "      <td>11.525486</td>\n",
       "      <td>8.228068</td>\n",
       "      <td>6.263650</td>\n",
       "      <td>6.980316</td>\n",
       "      <td>6.935224</td>\n",
       "      <td>7.202693</td>\n",
       "      <td>6.506303</td>\n",
       "      <td>NaN</td>\n",
       "      <td>10.174487</td>\n",
       "      <td>...</td>\n",
       "      <td>14.078262</td>\n",
       "      <td>10.772023</td>\n",
       "      <td>10.852723</td>\n",
       "      <td>11.217815</td>\n",
       "      <td>11.616385</td>\n",
       "      <td>11.642031</td>\n",
       "      <td>13.380980</td>\n",
       "      <td>13.285054</td>\n",
       "      <td>14.849882</td>\n",
       "      <td>14.745887</td>\n",
       "    </tr>\n",
       "    <tr>\n",
       "      <th>GSM2040050</th>\n",
       "      <td>3</td>\n",
       "      <td>12.065558</td>\n",
       "      <td>7.846811</td>\n",
       "      <td>6.209375</td>\n",
       "      <td>6.845665</td>\n",
       "      <td>7.756955</td>\n",
       "      <td>7.296280</td>\n",
       "      <td>6.260816</td>\n",
       "      <td>NaN</td>\n",
       "      <td>9.603659</td>\n",
       "      <td>...</td>\n",
       "      <td>14.047539</td>\n",
       "      <td>10.772366</td>\n",
       "      <td>10.848230</td>\n",
       "      <td>11.281313</td>\n",
       "      <td>11.658053</td>\n",
       "      <td>11.718157</td>\n",
       "      <td>13.528923</td>\n",
       "      <td>13.426079</td>\n",
       "      <td>14.921518</td>\n",
       "      <td>14.755227</td>\n",
       "    </tr>\n",
       "    <tr>\n",
       "      <th>GSM2040051</th>\n",
       "      <td>1</td>\n",
       "      <td>12.241492</td>\n",
       "      <td>8.773813</td>\n",
       "      <td>6.224915</td>\n",
       "      <td>8.470868</td>\n",
       "      <td>7.273758</td>\n",
       "      <td>6.501721</td>\n",
       "      <td>6.037350</td>\n",
       "      <td>NaN</td>\n",
       "      <td>9.910506</td>\n",
       "      <td>...</td>\n",
       "      <td>14.051806</td>\n",
       "      <td>11.265547</td>\n",
       "      <td>11.348677</td>\n",
       "      <td>11.750596</td>\n",
       "      <td>12.044968</td>\n",
       "      <td>12.141476</td>\n",
       "      <td>13.691652</td>\n",
       "      <td>13.567323</td>\n",
       "      <td>14.939526</td>\n",
       "      <td>14.798012</td>\n",
       "    </tr>\n",
       "    <tr>\n",
       "      <th>GSM2040052</th>\n",
       "      <td>1</td>\n",
       "      <td>12.136862</td>\n",
       "      <td>8.154033</td>\n",
       "      <td>6.337771</td>\n",
       "      <td>7.077127</td>\n",
       "      <td>7.714096</td>\n",
       "      <td>6.339736</td>\n",
       "      <td>6.060582</td>\n",
       "      <td>NaN</td>\n",
       "      <td>9.729527</td>\n",
       "      <td>...</td>\n",
       "      <td>14.095301</td>\n",
       "      <td>10.880691</td>\n",
       "      <td>10.897250</td>\n",
       "      <td>11.340090</td>\n",
       "      <td>11.619211</td>\n",
       "      <td>11.731085</td>\n",
       "      <td>13.444031</td>\n",
       "      <td>13.337528</td>\n",
       "      <td>14.909008</td>\n",
       "      <td>14.772268</td>\n",
       "    </tr>\n",
       "    <tr>\n",
       "      <th>GSM2040053</th>\n",
       "      <td>3</td>\n",
       "      <td>11.877510</td>\n",
       "      <td>7.924744</td>\n",
       "      <td>7.105535</td>\n",
       "      <td>6.719634</td>\n",
       "      <td>7.643372</td>\n",
       "      <td>7.169077</td>\n",
       "      <td>5.900463</td>\n",
       "      <td>NaN</td>\n",
       "      <td>9.512516</td>\n",
       "      <td>...</td>\n",
       "      <td>14.219794</td>\n",
       "      <td>10.685269</td>\n",
       "      <td>10.737175</td>\n",
       "      <td>11.099915</td>\n",
       "      <td>11.462614</td>\n",
       "      <td>11.524764</td>\n",
       "      <td>13.439188</td>\n",
       "      <td>13.247819</td>\n",
       "      <td>14.866888</td>\n",
       "      <td>14.736428</td>\n",
       "    </tr>\n",
       "    <tr>\n",
       "      <th>...</th>\n",
       "      <td>...</td>\n",
       "      <td>...</td>\n",
       "      <td>...</td>\n",
       "      <td>...</td>\n",
       "      <td>...</td>\n",
       "      <td>...</td>\n",
       "      <td>...</td>\n",
       "      <td>...</td>\n",
       "      <td>...</td>\n",
       "      <td>...</td>\n",
       "      <td>...</td>\n",
       "      <td>...</td>\n",
       "      <td>...</td>\n",
       "      <td>...</td>\n",
       "      <td>...</td>\n",
       "      <td>...</td>\n",
       "      <td>...</td>\n",
       "      <td>...</td>\n",
       "      <td>...</td>\n",
       "      <td>...</td>\n",
       "      <td>...</td>\n",
       "    </tr>\n",
       "    <tr>\n",
       "      <th>GSM2040249</th>\n",
       "      <td>4</td>\n",
       "      <td>12.383049</td>\n",
       "      <td>7.247679</td>\n",
       "      <td>6.979687</td>\n",
       "      <td>6.904048</td>\n",
       "      <td>7.480060</td>\n",
       "      <td>6.542484</td>\n",
       "      <td>NaN</td>\n",
       "      <td>6.147186</td>\n",
       "      <td>8.480218</td>\n",
       "      <td>...</td>\n",
       "      <td>14.350082</td>\n",
       "      <td>11.346604</td>\n",
       "      <td>11.408714</td>\n",
       "      <td>11.829293</td>\n",
       "      <td>12.136834</td>\n",
       "      <td>12.223250</td>\n",
       "      <td>13.937784</td>\n",
       "      <td>13.790395</td>\n",
       "      <td>14.968515</td>\n",
       "      <td>14.880854</td>\n",
       "    </tr>\n",
       "    <tr>\n",
       "      <th>GSM2040251</th>\n",
       "      <td>4</td>\n",
       "      <td>11.776944</td>\n",
       "      <td>7.831067</td>\n",
       "      <td>6.937082</td>\n",
       "      <td>6.068158</td>\n",
       "      <td>8.104979</td>\n",
       "      <td>7.600857</td>\n",
       "      <td>NaN</td>\n",
       "      <td>6.042489</td>\n",
       "      <td>8.351191</td>\n",
       "      <td>...</td>\n",
       "      <td>14.206567</td>\n",
       "      <td>11.234402</td>\n",
       "      <td>11.295581</td>\n",
       "      <td>11.751644</td>\n",
       "      <td>12.035595</td>\n",
       "      <td>12.154590</td>\n",
       "      <td>13.811555</td>\n",
       "      <td>13.716492</td>\n",
       "      <td>15.007170</td>\n",
       "      <td>14.887732</td>\n",
       "    </tr>\n",
       "    <tr>\n",
       "      <th>GSM2040252</th>\n",
       "      <td>4</td>\n",
       "      <td>12.270051</td>\n",
       "      <td>7.759707</td>\n",
       "      <td>5.967218</td>\n",
       "      <td>7.260020</td>\n",
       "      <td>7.954374</td>\n",
       "      <td>7.120392</td>\n",
       "      <td>NaN</td>\n",
       "      <td>6.809104</td>\n",
       "      <td>8.765270</td>\n",
       "      <td>...</td>\n",
       "      <td>14.157174</td>\n",
       "      <td>11.351615</td>\n",
       "      <td>11.420535</td>\n",
       "      <td>11.802580</td>\n",
       "      <td>12.180390</td>\n",
       "      <td>12.326884</td>\n",
       "      <td>13.701578</td>\n",
       "      <td>13.582518</td>\n",
       "      <td>14.913773</td>\n",
       "      <td>14.778234</td>\n",
       "    </tr>\n",
       "    <tr>\n",
       "      <th>GSM2040253</th>\n",
       "      <td>4</td>\n",
       "      <td>12.825522</td>\n",
       "      <td>7.709983</td>\n",
       "      <td>5.893009</td>\n",
       "      <td>6.209893</td>\n",
       "      <td>7.676196</td>\n",
       "      <td>7.134007</td>\n",
       "      <td>NaN</td>\n",
       "      <td>5.172976</td>\n",
       "      <td>8.466382</td>\n",
       "      <td>...</td>\n",
       "      <td>14.340254</td>\n",
       "      <td>11.361741</td>\n",
       "      <td>11.513054</td>\n",
       "      <td>11.893087</td>\n",
       "      <td>12.107992</td>\n",
       "      <td>12.278080</td>\n",
       "      <td>13.808387</td>\n",
       "      <td>13.851173</td>\n",
       "      <td>14.960024</td>\n",
       "      <td>14.863447</td>\n",
       "    </tr>\n",
       "    <tr>\n",
       "      <th>GSM2040254</th>\n",
       "      <td>4</td>\n",
       "      <td>12.320569</td>\n",
       "      <td>7.573217</td>\n",
       "      <td>6.276109</td>\n",
       "      <td>6.423566</td>\n",
       "      <td>8.888355</td>\n",
       "      <td>6.842803</td>\n",
       "      <td>NaN</td>\n",
       "      <td>6.985549</td>\n",
       "      <td>8.322281</td>\n",
       "      <td>...</td>\n",
       "      <td>14.470287</td>\n",
       "      <td>10.834180</td>\n",
       "      <td>10.900886</td>\n",
       "      <td>11.396092</td>\n",
       "      <td>11.863331</td>\n",
       "      <td>11.814940</td>\n",
       "      <td>13.819119</td>\n",
       "      <td>13.693271</td>\n",
       "      <td>15.001584</td>\n",
       "      <td>14.880854</td>\n",
       "    </tr>\n",
       "  </tbody>\n",
       "</table>\n",
       "<p>171 rows × 31570 columns</p>\n",
       "</div>"
      ],
      "text/plain": [
       "g_id        y  1007_s_at<->DDR1 /// MIR4640  1053_at<->RFC2  117_at<->HSPA6  \\\n",
       "sample                                                                        \n",
       "GSM2040049  3                     11.525486        8.228068        6.263650   \n",
       "GSM2040050  3                     12.065558        7.846811        6.209375   \n",
       "GSM2040051  1                     12.241492        8.773813        6.224915   \n",
       "GSM2040052  1                     12.136862        8.154033        6.337771   \n",
       "GSM2040053  3                     11.877510        7.924744        7.105535   \n",
       "...        ..                           ...             ...             ...   \n",
       "GSM2040249  4                     12.383049        7.247679        6.979687   \n",
       "GSM2040251  4                     11.776944        7.831067        6.937082   \n",
       "GSM2040252  4                     12.270051        7.759707        5.967218   \n",
       "GSM2040253  4                     12.825522        7.709983        5.893009   \n",
       "GSM2040254  4                     12.320569        7.573217        6.276109   \n",
       "\n",
       "g_id        121_at<->PAX8  1294_at<->MIR5193 /// UBA7  1316_at<->THRA  \\\n",
       "sample                                                                  \n",
       "GSM2040049       6.980316                    6.935224        7.202693   \n",
       "GSM2040050       6.845665                    7.756955        7.296280   \n",
       "GSM2040051       8.470868                    7.273758        6.501721   \n",
       "GSM2040052       7.077127                    7.714096        6.339736   \n",
       "GSM2040053       6.719634                    7.643372        7.169077   \n",
       "...                   ...                         ...             ...   \n",
       "GSM2040249       6.904048                    7.480060        6.542484   \n",
       "GSM2040251       6.068158                    8.104979        7.600857   \n",
       "GSM2040252       7.260020                    7.954374        7.120392   \n",
       "GSM2040253       6.209893                    7.676196        7.134007   \n",
       "GSM2040254       6.423566                    8.888355        6.842803   \n",
       "\n",
       "g_id        1320_at<->PTPN21  1431_at<->CYP2E1  1487_at<->ESRRA  ...  \\\n",
       "sample                                                           ...   \n",
       "GSM2040049          6.506303               NaN        10.174487  ...   \n",
       "GSM2040050          6.260816               NaN         9.603659  ...   \n",
       "GSM2040051          6.037350               NaN         9.910506  ...   \n",
       "GSM2040052          6.060582               NaN         9.729527  ...   \n",
       "GSM2040053          5.900463               NaN         9.512516  ...   \n",
       "...                      ...               ...              ...  ...   \n",
       "GSM2040249               NaN          6.147186         8.480218  ...   \n",
       "GSM2040251               NaN          6.042489         8.351191  ...   \n",
       "GSM2040252               NaN          6.809104         8.765270  ...   \n",
       "GSM2040253               NaN          5.172976         8.466382  ...   \n",
       "GSM2040254               NaN          6.985549         8.322281  ...   \n",
       "\n",
       "g_id        AFFX-hum_alu_at<->nan  AFFX-r2-Ec-bioB-3_at<->nan  \\\n",
       "sample                                                          \n",
       "GSM2040049              14.078262                   10.772023   \n",
       "GSM2040050              14.047539                   10.772366   \n",
       "GSM2040051              14.051806                   11.265547   \n",
       "GSM2040052              14.095301                   10.880691   \n",
       "GSM2040053              14.219794                   10.685269   \n",
       "...                           ...                         ...   \n",
       "GSM2040249              14.350082                   11.346604   \n",
       "GSM2040251              14.206567                   11.234402   \n",
       "GSM2040252              14.157174                   11.351615   \n",
       "GSM2040253              14.340254                   11.361741   \n",
       "GSM2040254              14.470287                   10.834180   \n",
       "\n",
       "g_id        AFFX-r2-Ec-bioB-5_at<->nan  AFFX-r2-Ec-bioB-M_at<->nan  \\\n",
       "sample                                                               \n",
       "GSM2040049                   10.852723                   11.217815   \n",
       "GSM2040050                   10.848230                   11.281313   \n",
       "GSM2040051                   11.348677                   11.750596   \n",
       "GSM2040052                   10.897250                   11.340090   \n",
       "GSM2040053                   10.737175                   11.099915   \n",
       "...                                ...                         ...   \n",
       "GSM2040249                   11.408714                   11.829293   \n",
       "GSM2040251                   11.295581                   11.751644   \n",
       "GSM2040252                   11.420535                   11.802580   \n",
       "GSM2040253                   11.513054                   11.893087   \n",
       "GSM2040254                   10.900886                   11.396092   \n",
       "\n",
       "g_id        AFFX-r2-Ec-bioC-3_at<->nan  AFFX-r2-Ec-bioC-5_at<->nan  \\\n",
       "sample                                                               \n",
       "GSM2040049                   11.616385                   11.642031   \n",
       "GSM2040050                   11.658053                   11.718157   \n",
       "GSM2040051                   12.044968                   12.141476   \n",
       "GSM2040052                   11.619211                   11.731085   \n",
       "GSM2040053                   11.462614                   11.524764   \n",
       "...                                ...                         ...   \n",
       "GSM2040249                   12.136834                   12.223250   \n",
       "GSM2040251                   12.035595                   12.154590   \n",
       "GSM2040252                   12.180390                   12.326884   \n",
       "GSM2040253                   12.107992                   12.278080   \n",
       "GSM2040254                   11.863331                   11.814940   \n",
       "\n",
       "g_id        AFFX-r2-Ec-bioD-3_at<->nan  AFFX-r2-Ec-bioD-5_at<->nan  \\\n",
       "sample                                                               \n",
       "GSM2040049                   13.380980                   13.285054   \n",
       "GSM2040050                   13.528923                   13.426079   \n",
       "GSM2040051                   13.691652                   13.567323   \n",
       "GSM2040052                   13.444031                   13.337528   \n",
       "GSM2040053                   13.439188                   13.247819   \n",
       "...                                ...                         ...   \n",
       "GSM2040249                   13.937784                   13.790395   \n",
       "GSM2040251                   13.811555                   13.716492   \n",
       "GSM2040252                   13.701578                   13.582518   \n",
       "GSM2040253                   13.808387                   13.851173   \n",
       "GSM2040254                   13.819119                   13.693271   \n",
       "\n",
       "g_id        AFFX-r2-P1-cre-3_at<->nan  AFFX-r2-P1-cre-5_at<->nan  \n",
       "sample                                                            \n",
       "GSM2040049                  14.849882                  14.745887  \n",
       "GSM2040050                  14.921518                  14.755227  \n",
       "GSM2040051                  14.939526                  14.798012  \n",
       "GSM2040052                  14.909008                  14.772268  \n",
       "GSM2040053                  14.866888                  14.736428  \n",
       "...                               ...                        ...  \n",
       "GSM2040249                  14.968515                  14.880854  \n",
       "GSM2040251                  15.007170                  14.887732  \n",
       "GSM2040252                  14.913773                  14.778234  \n",
       "GSM2040253                  14.960024                  14.863447  \n",
       "GSM2040254                  15.001584                  14.880854  \n",
       "\n",
       "[171 rows x 31570 columns]"
      ]
     },
     "execution_count": 27,
     "metadata": {},
     "output_type": "execute_result"
    }
   ],
   "source": [
    "sdfp=sdfp.set_index('sample')\n",
    "sdfp"
   ]
  },
  {
   "cell_type": "code",
   "execution_count": 28,
   "id": "artificial-completion",
   "metadata": {},
   "outputs": [],
   "source": [
    "# sdfp.describe()"
   ]
  },
  {
   "cell_type": "code",
   "execution_count": 166,
   "id": "confident-miniature",
   "metadata": {},
   "outputs": [
    {
     "data": {
      "text/plain": [
       "sample\n",
       "GSM2040049    31569\n",
       "GSM2040050    31569\n",
       "GSM2040051    31569\n",
       "GSM2040052    31569\n",
       "GSM2040053    31569\n",
       "              ...  \n",
       "GSM2040249    31569\n",
       "GSM2040251    31569\n",
       "GSM2040252    31569\n",
       "GSM2040253    31569\n",
       "GSM2040254    31569\n",
       "Length: 171, dtype: int64"
      ]
     },
     "execution_count": 166,
     "metadata": {},
     "output_type": "execute_result"
    }
   ],
   "source": [
    "sdfp.isna().count()"
   ]
  },
  {
   "cell_type": "code",
   "execution_count": 29,
   "id": "hazardous-wichita",
   "metadata": {},
   "outputs": [],
   "source": [
    "from sklearn import preprocessing\n",
    "\n",
    "# x1 = sdfp.values #returns a numpy array\n",
    "# min_max_scaler = preprocessing.MinMaxScaler()\n",
    "# x1_scaled = min_max_scaler.fit_transform(x1)\n",
    "# df1 = pd.DataFrame(x1_scaled)"
   ]
  },
  {
   "cell_type": "code",
   "execution_count": 30,
   "id": "boolean-appreciation",
   "metadata": {},
   "outputs": [],
   "source": [
    "x1 = sdfp.values #returns a numpy array\n",
    "sd_scaler = preprocessing.StandardScaler()\n",
    "x1_scaled = sd_scaler.fit_transform(x1)\n",
    "df1 = pd.DataFrame(x1_scaled)"
   ]
  },
  {
   "cell_type": "code",
   "execution_count": 31,
   "id": "virgin-silly",
   "metadata": {},
   "outputs": [],
   "source": [
    "df1=df1.fillna(df1.mean())"
   ]
  },
  {
   "cell_type": "code",
   "execution_count": 32,
   "id": "forward-blast",
   "metadata": {},
   "outputs": [],
   "source": [
    "import matplotlib.pyplot as plt\n",
    "from sklearn import datasets\n",
    "from sklearn.decomposition import PCA\n",
    "from sklearn.discriminant_analysis import LinearDiscriminantAnalysis"
   ]
  },
  {
   "cell_type": "code",
   "execution_count": 33,
   "id": "hindu-listening",
   "metadata": {},
   "outputs": [],
   "source": [
    "X=df1.values.tolist()"
   ]
  },
  {
   "cell_type": "code",
   "execution_count": 34,
   "id": "lesbian-portal",
   "metadata": {},
   "outputs": [
    {
     "data": {
      "text/plain": [
       "array([[ 0.79845304, -2.63527509,  0.43503437, ..., -1.05656596,\n",
       "        -1.15435298, -0.8421814 ],\n",
       "       [ 0.79845304, -0.4846266 , -0.66401282, ..., -0.36801847,\n",
       "        -0.13794046, -0.7109639 ],\n",
       "       [-0.86661367,  0.21596692,  2.00824506, ...,  0.32160078,\n",
       "         0.1175674 , -0.10986556],\n",
       "       ...,\n",
       "       [ 1.6309864 ,  0.329691  , -0.91510513, ...,  0.39579012,\n",
       "        -0.24783932, -0.3877309 ],\n",
       "       [ 1.6309864 ,  2.54165606, -1.05844381, ...,  1.70748618,\n",
       "         0.40840426,  0.80945562],\n",
       "       [ 1.6309864 ,  0.53086281, -1.45269672, ...,  0.93653818,\n",
       "         0.99807241,  1.05402588]])"
      ]
     },
     "execution_count": 34,
     "metadata": {},
     "output_type": "execute_result"
    }
   ],
   "source": [
    "X1=np.array(X)\n",
    "X1"
   ]
  },
  {
   "cell_type": "code",
   "execution_count": 38,
   "id": "premium-nation",
   "metadata": {},
   "outputs": [],
   "source": [
    "y=sdfp['y']"
   ]
  },
  {
   "cell_type": "code",
   "execution_count": 39,
   "id": "ahead-reception",
   "metadata": {
    "scrolled": true
   },
   "outputs": [
    {
     "data": {
      "text/plain": [
       "array([3, 3, 1, 1, 3, 1, 3, 3, 1, 1, 1, 1, 1, 3, 1, 1, 1, 3, 1, 1, 1, 1,\n",
       "       1, 1, 1, 3, 1, 1, 1, 1, 3, 1, 1, 3, 1, 1, 1, 1, 3, 3, 1, 1, 1, 1,\n",
       "       1, 1, 1, 1, 1, 1, 1, 1, 1, 1, 1, 1, 1, 1, 1, 1, 1, 1, 1, 1, 1, 1,\n",
       "       3, 3, 1, 1, 1, 1, 1, 1, 1, 1, 1, 3, 3, 1, 1, 1, 1, 1, 1, 3, 3, 3,\n",
       "       1, 1, 1, 1, 1, 1, 1, 1, 1, 1, 1, 1, 1, 1, 1, 4, 2, 2, 2, 2, 4, 2,\n",
       "       2, 2, 4, 4, 2, 2, 2, 2, 4, 4, 4, 2, 2, 4, 2, 4, 2, 2, 2, 4, 4, 4,\n",
       "       4, 4, 2, 2, 4, 4, 4, 4, 2, 4, 4, 4, 2, 2, 2, 4, 4, 4, 2, 2, 2, 2,\n",
       "       4, 4, 4, 2, 4, 4, 2, 2, 2, 4, 2, 4, 4, 4, 4, 4, 4])"
      ]
     },
     "execution_count": 39,
     "metadata": {},
     "output_type": "execute_result"
    }
   ],
   "source": [
    "y1=np.array(y)\n",
    "y1"
   ]
  },
  {
   "cell_type": "code",
   "execution_count": 40,
   "id": "minute-attention",
   "metadata": {},
   "outputs": [
    {
     "data": {
      "text/plain": [
       "dtype('int64')"
      ]
     },
     "execution_count": 40,
     "metadata": {},
     "output_type": "execute_result"
    }
   ],
   "source": [
    "y1.dtype"
   ]
  },
  {
   "cell_type": "code",
   "execution_count": 49,
   "id": "emotional-stylus",
   "metadata": {
    "scrolled": true
   },
   "outputs": [],
   "source": [
    "#pca\n",
    "pca = PCA(n_components=3)"
   ]
  },
  {
   "cell_type": "code",
   "execution_count": 50,
   "id": "satisfactory-quality",
   "metadata": {
    "scrolled": true
   },
   "outputs": [
    {
     "data": {
      "text/plain": [
       "array([[ 1.60453175e+02,  6.25187022e+01,  3.29845030e+01],\n",
       "       [ 7.73205017e+01, -2.22450696e+01,  3.70613938e+01],\n",
       "       [ 1.16951177e+02,  8.13931946e+01, -8.03110564e+01],\n",
       "       [ 1.03007613e+02,  1.72600540e+00,  2.10939127e+01],\n",
       "       [ 9.88195290e+01, -2.36479678e+01,  6.71605391e+01],\n",
       "       [ 3.26952919e+01, -6.74353368e+01, -2.00747207e+01],\n",
       "       [ 1.21054883e+02,  3.74500926e+01, -3.79360397e+01],\n",
       "       [ 8.57488822e+01, -5.29642532e+01,  1.89186881e+01],\n",
       "       [ 7.64488974e+01, -5.06386258e+01,  5.89801033e+00],\n",
       "       [ 1.13118712e+02,  1.11600824e+02, -7.40363619e+01],\n",
       "       [ 1.15044722e+02,  1.34029207e+01,  8.14055024e-01],\n",
       "       [ 6.83630725e+01, -7.57515146e+01,  3.41559446e+00],\n",
       "       [ 1.39820166e+01, -1.64845206e+01, -6.47615803e+01],\n",
       "       [ 6.98504221e+01, -3.90270403e+01,  1.01189666e+01],\n",
       "       [ 7.32974772e+01, -2.40307785e+01,  2.74448229e+01],\n",
       "       [ 3.84077336e+01, -6.63302801e+01,  4.40810866e+01],\n",
       "       [ 9.93083529e+01,  1.16178613e+02, -1.68547085e+01],\n",
       "       [ 5.77296196e+01, -4.20085249e+01,  6.67040011e+01],\n",
       "       [ 7.12643009e+01,  5.19385835e+01,  1.19068911e+01],\n",
       "       [ 3.79942286e+01, -7.66606094e+01,  2.97741319e+01],\n",
       "       [ 9.44490369e+01, -3.90178143e+01,  6.33933649e+00],\n",
       "       [ 2.37038783e+00, -1.07078336e+00, -6.55628651e+01],\n",
       "       [ 1.28012365e+01,  5.92719401e+00, -3.78911215e+01],\n",
       "       [ 6.27217001e+01, -3.13645105e+01,  2.60528865e+01],\n",
       "       [ 1.18997577e+02,  3.45124036e+01, -1.77654748e+01],\n",
       "       [ 1.05372302e+02,  7.04985947e+00,  2.64848804e+00],\n",
       "       [ 3.16236935e+01,  2.38699680e+01, -5.84907758e+01],\n",
       "       [ 5.88490763e+01,  3.09474423e+00, -2.14386879e+01],\n",
       "       [ 9.94155722e+01, -2.30121652e+01, -4.72795476e+00],\n",
       "       [ 1.13701024e+02,  1.82257234e+01,  1.85497623e+01],\n",
       "       [ 9.40242770e+01, -3.74830310e+00,  1.31782116e+01],\n",
       "       [ 4.24024128e+01,  1.47963679e+01, -2.08841739e+01],\n",
       "       [ 3.09946761e+01, -6.56475131e+01,  1.78297731e+01],\n",
       "       [ 6.22389334e+01, -6.04936196e+01,  2.61791228e+01],\n",
       "       [ 3.29377253e+01, -4.78153268e+01, -3.32405420e+01],\n",
       "       [ 4.59094895e+01, -6.24015046e+00, -6.23779218e+00],\n",
       "       [ 1.76377311e+02,  1.10142342e+02, -1.99473531e+01],\n",
       "       [ 7.94322695e+01, -3.19421215e+00,  1.32691127e+01],\n",
       "       [ 1.35363742e+02,  3.77681243e+01,  1.13120410e+01],\n",
       "       [ 7.43046535e+01,  2.48397976e+01, -2.02197991e-01],\n",
       "       [ 1.07941406e+02,  2.36178125e+01, -2.44488643e+01],\n",
       "       [ 8.66418742e+01,  1.22436063e+01, -1.19940758e+01],\n",
       "       [ 1.33210613e+01, -3.48681972e+01, -1.80480585e+01],\n",
       "       [ 5.53729638e+01, -5.30493081e+01,  1.36992691e+01],\n",
       "       [ 7.98938058e+01,  2.93683792e+01, -5.40712675e+01],\n",
       "       [ 5.62671748e+01, -1.42186963e+00, -6.44843104e-01],\n",
       "       [ 7.99708835e+01,  4.66862877e+01, -9.25791383e+00],\n",
       "       [ 1.13486055e+01, -3.41294800e+01, -1.72418866e+01],\n",
       "       [ 8.53284584e+01,  2.09206229e+01, -1.48471666e+01],\n",
       "       [ 2.58442719e+01, -5.50727591e+01, -2.71870233e+01],\n",
       "       [ 1.23512349e+02, -7.08236209e+00,  6.33267424e+00],\n",
       "       [ 6.90739299e+01, -4.59352480e+01, -2.09893859e+00],\n",
       "       [ 6.35201957e+01, -4.62026770e+01, -2.75529382e+01],\n",
       "       [ 3.70661971e+01, -2.74107774e+01, -4.92449965e+01],\n",
       "       [ 3.55172398e+01, -6.84344854e+01, -3.12655811e+01],\n",
       "       [ 6.59792794e+00, -4.65827321e+01, -1.36228378e+01],\n",
       "       [ 5.01217885e+01, -3.91266118e+00, -1.99841168e+01],\n",
       "       [ 8.91891508e+01, -2.28075692e+01, -3.51741411e+01],\n",
       "       [ 5.69540279e+01, -3.26638013e+01,  4.67022509e+01],\n",
       "       [ 9.06356549e+01,  3.96107561e+01,  1.19934967e+02],\n",
       "       [ 1.17380611e+02,  7.95753709e+00, -3.07141391e+01],\n",
       "       [ 8.94693352e+01,  3.66965803e+01,  3.93281341e+01],\n",
       "       [ 3.70749651e+01, -7.17186835e+01, -3.80577482e+01],\n",
       "       [ 9.12949865e+01, -2.12814669e+01,  4.19485420e+01],\n",
       "       [ 1.10043176e+02,  4.44892728e+01,  3.79797064e+00],\n",
       "       [ 1.10097882e+02,  1.81732631e+01, -3.60624543e+00],\n",
       "       [ 1.46749944e+02,  4.09479162e+01, -4.53383409e+00],\n",
       "       [ 1.01938397e+02,  4.05718411e+01,  8.11894536e+00],\n",
       "       [ 5.30248675e+01,  6.28475881e+00, -7.62064252e+01],\n",
       "       [ 7.31469295e+01, -3.03896695e+01, -4.67964913e+01],\n",
       "       [ 1.03670939e+02,  1.79186200e+01, -7.52525544e-02],\n",
       "       [ 9.92027105e+01,  4.90685657e+01, -3.35052490e+01],\n",
       "       [ 5.47504114e+01,  6.62459915e+00, -2.08598454e+01],\n",
       "       [ 5.42213883e+01, -6.66665004e+01,  1.51135994e+01],\n",
       "       [ 3.41347166e+00, -1.10216121e+02,  5.48694205e+00],\n",
       "       [ 6.10910004e+01, -2.21809304e+01,  5.69163016e+01],\n",
       "       [ 2.70580246e+01, -6.87325004e+01,  3.94177317e+01],\n",
       "       [ 5.80783349e+01,  1.73536030e+01,  5.26383848e+01],\n",
       "       [ 1.02354942e+02,  1.63248221e+01,  4.68311613e+01],\n",
       "       [ 9.68934382e+01,  9.54179985e-02,  1.15907732e+01],\n",
       "       [ 1.06005763e+02, -1.42700193e+01,  2.65449767e+00],\n",
       "       [ 9.21274809e+01, -1.42374569e+01,  7.14692629e+00],\n",
       "       [ 7.81148944e+01, -4.78572653e+01,  2.06542684e+01],\n",
       "       [ 9.76541140e+01,  1.65167603e+00, -1.81230750e+01],\n",
       "       [ 6.79406860e+01, -2.39403690e+01, -2.15017502e+01],\n",
       "       [ 9.79461826e+01, -1.26511444e+00,  1.31392150e+01],\n",
       "       [ 1.06661880e+02,  1.89662724e-01,  6.04496285e+01],\n",
       "       [ 1.39947977e+02,  5.70321266e+01, -5.86668649e+00],\n",
       "       [ 6.67615076e+00, -1.00942794e+02,  8.81274616e+01],\n",
       "       [ 6.17216340e+01, -5.10127683e+01,  2.85627024e+01],\n",
       "       [ 9.76166738e+01,  3.76675219e+00,  1.91013831e+01],\n",
       "       [ 4.16461007e+01,  6.76057088e+00, -2.44068702e+01],\n",
       "       [ 1.18201108e+02,  5.30171483e+01, -2.09080771e+01],\n",
       "       [ 9.82507806e+01,  4.10071795e+01, -1.36841187e+01],\n",
       "       [ 6.73962538e+01, -2.68270751e+01,  3.90222067e+01],\n",
       "       [ 9.48888716e+01, -1.42905645e+01, -1.81899932e+01],\n",
       "       [ 9.75241739e+01,  2.05101089e+01,  1.43312930e+01],\n",
       "       [-2.03202791e+00, -5.42751079e+01, -3.68003871e+01],\n",
       "       [ 1.24847872e+01, -8.27990136e+01,  1.24483134e+01],\n",
       "       [ 1.76473256e+01, -6.59784714e+01,  1.05969644e+01],\n",
       "       [ 7.80963667e+01,  4.48008703e+01, -6.57558985e+01],\n",
       "       [ 9.25688438e+01, -2.43781984e-01, -2.96299116e+01],\n",
       "       [ 1.10976128e+02,  6.29327951e+00, -3.35151536e+00],\n",
       "       [-1.18875533e+02, -2.15818873e+01,  3.92582876e+01],\n",
       "       [-1.26642600e+02,  6.51380764e+01, -2.78524181e+01],\n",
       "       [-1.20028823e+02, -1.83923314e+01, -4.41354660e+01],\n",
       "       [-1.12668632e+02, -1.46633134e+01, -2.60075479e+01],\n",
       "       [-9.03079454e+01,  3.68702215e+01, -1.21343797e+01],\n",
       "       [-1.31058801e+02,  1.28590505e+00, -6.17450309e+01],\n",
       "       [-1.31387467e+02, -4.83036898e+00, -2.72604381e+01],\n",
       "       [-1.11194913e+02,  1.00292816e+00, -2.24593110e+01],\n",
       "       [-2.74200577e+01,  6.77052034e+01,  2.04089417e+01],\n",
       "       [-1.39039636e+02,  6.19443707e+01,  2.08675886e+01],\n",
       "       [-1.18476180e+02,  2.28587008e+01, -3.04994174e+01],\n",
       "       [-2.47299068e+01,  4.04032169e+01,  1.14316756e+01],\n",
       "       [-1.50212257e+02, -3.48579687e+01,  1.43167116e+00],\n",
       "       [-3.77857847e+01,  4.21802266e+01,  6.00033382e+01],\n",
       "       [-1.52071020e+02, -2.93564947e+01,  8.68315396e+00],\n",
       "       [-1.15639314e+02,  9.87772004e+00, -5.50847589e+01],\n",
       "       [-1.48552372e+02, -3.67059615e+01,  5.26805461e+00],\n",
       "       [-1.58889541e+02,  2.89148092e+01,  6.19083011e+01],\n",
       "       [-1.72495568e+02,  1.09087958e+01,  1.53238202e-02],\n",
       "       [-1.52145551e+02, -2.67933362e+01, -6.67413471e+01],\n",
       "       [-1.24674971e+02,  1.57862962e+00,  5.14385834e+00],\n",
       "       [-1.24815331e+02,  1.24350164e+00, -5.71318991e+01],\n",
       "       [-1.29187454e+02,  1.06738450e+01,  5.60872613e+01],\n",
       "       [-1.20965595e+02, -2.38687550e+01, -3.79834931e+01],\n",
       "       [-1.14028698e+02, -3.34152059e+01, -2.50161981e+01],\n",
       "       [-6.85937337e+01,  8.78299424e+01,  7.57284225e+01],\n",
       "       [-1.17558255e+02,  2.82674101e+01, -2.70656097e+01],\n",
       "       [-1.28797034e+02,  9.49970904e-01,  8.93820559e+00],\n",
       "       [-1.36505512e+02,  3.80467747e+01,  4.09839331e+01],\n",
       "       [-8.37969942e+01,  2.56301826e+01,  2.44461887e+01],\n",
       "       [-4.03098654e+01,  1.04874894e+02, -2.42897680e+01],\n",
       "       [-1.06540482e+02,  2.04075594e+01, -3.81153511e+01],\n",
       "       [-1.23674349e+02, -7.10833781e+01,  1.42303267e+01],\n",
       "       [-1.32039504e+02,  7.11119054e+00,  9.45257953e+01],\n",
       "       [-1.30651660e+02,  1.90026290e+01, -1.63079866e+01],\n",
       "       [-1.33156174e+02,  2.89768488e+01, -7.72298927e+00],\n",
       "       [-1.01774252e+02,  1.41447618e+01,  9.26769043e+01],\n",
       "       [-1.14974731e+02, -3.37558746e+01, -5.38212198e+01],\n",
       "       [-5.06576803e+01,  9.04836068e+01,  6.71899330e+01],\n",
       "       [-1.13499895e+02,  8.75899850e+00, -2.13562483e+01],\n",
       "       [-9.65726298e+01,  3.52865332e+00,  1.19724412e+01],\n",
       "       [-8.99004581e+01, -2.96611119e+01, -9.51524313e+01],\n",
       "       [-1.01996244e+02, -3.80321964e+01, -7.16933897e+01],\n",
       "       [-9.09571144e+01, -2.19482457e+01, -5.82048120e+01],\n",
       "       [-9.87908508e+01,  4.29917197e+01,  9.01613286e+01],\n",
       "       [-1.17666278e+02,  8.78651226e+00,  2.81505683e+01],\n",
       "       [-1.29842090e+02, -4.68852242e+01,  4.79626313e+01],\n",
       "       [-9.50425898e+01,  9.15478670e+01,  1.16027626e+02],\n",
       "       [-1.27039062e+02,  1.12399346e+01,  2.80084252e+01],\n",
       "       [-1.13817731e+02, -2.31329557e+01,  4.34959054e+01],\n",
       "       [-1.00825216e+02, -2.83179844e+01, -2.82163251e+01],\n",
       "       [-9.81189825e+01, -3.03560742e+01, -4.96094015e+01],\n",
       "       [-9.47834355e+01, -6.01923626e+00,  8.73423848e+00],\n",
       "       [-8.64210345e+01,  7.08233570e+01,  6.52446637e+01],\n",
       "       [-1.42608441e+02,  6.97240575e+01, -7.55539786e+01],\n",
       "       [-1.27917657e+02,  1.55660305e+01, -8.13577127e+00],\n",
       "       [-7.63944048e+01, -6.55762269e+01, -1.73400883e+00],\n",
       "       [-1.07699396e+02, -5.30705659e+01, -1.57614843e+01],\n",
       "       [-1.18697265e+02,  1.12158177e+02, -8.31663825e+01],\n",
       "       [-1.16570914e+02, -1.02213426e+01, -5.60887381e+01],\n",
       "       [-1.31508032e+02, -2.48110726e+01,  6.10460723e+01],\n",
       "       [-1.20536944e+02, -1.62603913e+01, -4.67450029e+01],\n",
       "       [-1.19588562e+02, -3.06995392e+01, -1.23912839e+01],\n",
       "       [-1.31898674e+02, -7.72394717e+00,  3.83186905e+01],\n",
       "       [-9.74699843e+01,  4.64888003e+01,  6.44885796e+01],\n",
       "       [-1.28413613e+02,  7.90891519e+01,  6.23467306e+00],\n",
       "       [-1.40690128e+02,  1.47912169e+01,  1.20407702e+01],\n",
       "       [-1.62692775e+02,  7.93240149e+01,  6.68638398e+01]])"
      ]
     },
     "execution_count": 50,
     "metadata": {},
     "output_type": "execute_result"
    }
   ],
   "source": [
    "X1_r = pca.fit(X1).transform(X1)\n",
    "X1_r"
   ]
  },
  {
   "cell_type": "code",
   "execution_count": 51,
   "id": "labeled-linux",
   "metadata": {},
   "outputs": [],
   "source": [
    "# alternative method\n",
    "\n",
    "# lda = LinearDiscriminantAnalysis(n_components=2)\n",
    "# X1_r2 = lda.fit(X1, y1).transform(X1)"
   ]
  },
  {
   "cell_type": "code",
   "execution_count": 52,
   "id": "aging-court",
   "metadata": {},
   "outputs": [
    {
     "name": "stdout",
     "output_type": "stream",
     "text": [
      "explained variance ratio (first two components): [0.32626439 0.06684023 0.05620828]\n"
     ]
    }
   ],
   "source": [
    "# Percentage of variance explained for each components\n",
    "print('explained variance ratio (first two components): %s'\n",
    "      % str(pca.explained_variance_ratio_))"
   ]
  },
  {
   "cell_type": "code",
   "execution_count": 120,
   "id": "greater-diamond",
   "metadata": {},
   "outputs": [
    {
     "data": {
      "text/plain": [
       "Text(0.5, 0.92, 'PCA of gene expression dataset')"
      ]
     },
     "execution_count": 120,
     "metadata": {},
     "output_type": "execute_result"
    },
    {
     "data": {
      "image/png": "[encoded data removed]",
      "text/plain": [
       "<Figure size 1152x720 with 1 Axes>"
      ]
     },
     "metadata": {
      "needs_background": "light"
     },
     "output_type": "display_data"
    }
   ],
   "source": [
    "plt.figure(figsize=(16,10)).gca(projection='3d')\n",
    "colors = ['steelblue', 'darkorange', 'navy','saddlebrown']\n",
    "target_names = ['ND-organ donor','ND-partially pancreatectomized patient',\n",
    "     'T2D-organ donor','T2D-partially pancreatectomized patient']\n",
    "lw = 2\n",
    "for color, i ,target_name in zip(colors, [1, 2, 3,4],target_names):\n",
    "    plt.scatter(X1_r[y1 == i, 0], X1_r[y1 == i, 1],X1_r[y1 == i, 2], color=color, alpha=.8, lw=lw ,\n",
    "               label=target_name)\n",
    "plt.legend(loc='best', shadow=False, scatterpoints=1)\n",
    "plt.title('PCA of gene expression dataset')\n",
    "\n",
    "# plt.scatter(X1_r[:50,0],X1_r[:50,1],color='navy', alpha=.4, lw=lw)"
   ]
  },
  {
   "cell_type": "code",
   "execution_count": 68,
   "id": "aging-pakistan",
   "metadata": {},
   "outputs": [],
   "source": [
    "def label_decoder(x):\n",
    "    if x == 1:\n",
    "        return 'ND-organ donor'\n",
    "    elif x == 2:\n",
    "        return 'ND-partially pancreatectomized patient'\n",
    "    elif x == 3:\n",
    "        return 'T2D-organ donor'\n",
    "    elif x == 4:\n",
    "        return 'T2D-partially pancreatectomized patient'"
   ]
  },
  {
   "cell_type": "code",
   "execution_count": 69,
   "id": "optional-contemporary",
   "metadata": {},
   "outputs": [
    {
     "data": {
      "application/vnd.plotly.v1+json": {
       "config": {
        "plotlyServerURL": "https://plot.ly"
       },
       "data": [
        {
         "hovertemplate": "names=T2D-organ donor<br>0=%{x}<br>1=%{y}<br>2=%{z}<extra></extra>",
         "legendgroup": "T2D-organ donor",
         "marker": {
          "color": "#636efa",
          "symbol": "circle"
         },
         "mode": "markers",
         "name": "T2D-organ donor",
         "scene": "scene",
         "showlegend": true,
         "type": "scatter3d",
         "x": [
          160.45317507298537,
          77.32050168605477,
          98.81952902018163,
          121.05488326140325,
          85.74888220888995,
          69.85042210735999,
          57.72961963725476,
          105.37230246763878,
          94.0242769994887,
          62.238933376023255,
          135.36374192241396,
          74.30465351682874,
          146.74994366723212,
          101.93839747814646,
          58.07833489724599,
          102.3549417189323,
          97.94618256856539,
          106.6618804371784,
          139.94797675717993
         ],
         "y": [
          62.5187022343924,
          -22.245069572408674,
          -23.647967774072747,
          37.45009259253401,
          -52.96425317415138,
          -39.027040302129485,
          -42.00852487950334,
          7.049859469479542,
          -3.748303103512156,
          -60.4936195955359,
          37.76812434273366,
          24.839797649503225,
          40.94791619534229,
          40.57184110388793,
          17.353602976745464,
          16.324822115751168,
          -1.265114441186627,
          0.18966272399709505,
          57.032126557060494
         ],
         "z": [
          32.9845030405647,
          37.06139380552961,
          67.16053908463628,
          -37.936039697215044,
          18.918688145807547,
          10.118966625808595,
          66.70400110431183,
          2.6484880436077374,
          13.17821163120845,
          26.179122833170815,
          11.312040965313807,
          -0.2021979909371299,
          -4.533834091584727,
          8.11894536311376,
          52.63838478980207,
          46.83116127282889,
          13.139215036668217,
          60.44962854407476,
          -5.86668649159183
         ]
        },
        {
         "hovertemplate": "names=ND-organ donor<br>0=%{x}<br>1=%{y}<br>2=%{z}<extra></extra>",
         "legendgroup": "ND-organ donor",
         "marker": {
          "color": "#EF553B",
          "symbol": "circle"
         },
         "mode": "markers",
         "name": "ND-organ donor",
         "scene": "scene",
         "showlegend": true,
         "type": "scatter3d",
         "x": [
          116.95117729427922,
          103.00761274954252,
          32.69529190140075,
          76.44889737348981,
          113.11871249071653,
          115.04472162954475,
          68.36307248275048,
          13.982016595864023,
          73.29747717072304,
          38.40773359792795,
          99.30835291121889,
          71.26430090764941,
          37.99422857381018,
          94.44903686111039,
          2.370387827254539,
          12.801236503510003,
          62.72170008583672,
          118.99757698286628,
          31.623693452722073,
          58.84907629068084,
          99.41557217897078,
          113.70102449062132,
          42.40241278086871,
          30.994676123440506,
          32.93772533299649,
          45.90948950364261,
          176.37731114702459,
          79.43226946928851,
          107.94140629282779,
          86.64187416423722,
          13.321061300727843,
          55.37296377069367,
          79.89380580424086,
          56.26717483111518,
          79.97088346993706,
          11.348605462478792,
          85.32845842123983,
          25.844271899089698,
          123.51234923379047,
          69.07392993592248,
          63.52019574277012,
          37.06619711728968,
          35.517239831079856,
          6.597927943293688,
          50.121788489538254,
          89.18915075965963,
          56.95402790925571,
          90.63565492394473,
          117.38061132468376,
          89.46933518788236,
          37.074965116380405,
          91.29498647685786,
          110.04317568771853,
          110.09788208036277,
          53.02486751852686,
          73.14692947169108,
          103.67093850825019,
          99.20271045685908,
          54.75041138394165,
          54.221388292812115,
          3.41347165957709,
          61.091000444486205,
          27.05802464308177,
          96.89343823743216,
          106.00576337256754,
          92.1274809390538,
          78.11489435807785,
          97.65411404370849,
          67.94068604745348,
          6.676150764969787,
          61.721634000899435,
          97.61667383710639,
          41.64610073179359,
          118.201107507721,
          98.25078060695266,
          67.39625383351324,
          94.88887157969734,
          97.52417386810833,
          -2.032027914123675,
          12.484787249485652,
          17.647325649869693,
          78.09636668576165,
          92.56884375853794,
          110.97612769830405
         ],
         "y": [
          81.39319464004237,
          1.7260053970571438,
          -67.43533678177536,
          -50.6386258272592,
          111.6008244997164,
          13.402920664011344,
          -75.75151462664458,
          -16.484520591128234,
          -24.030778468685405,
          -66.33028009250714,
          116.17861324207304,
          51.93858347577294,
          -76.66060935497217,
          -39.01781426330347,
          -1.0707833608111479,
          5.9271940053777294,
          -31.364510485336073,
          34.51240362642027,
          23.86996803764477,
          3.094744232417695,
          -23.01216520562968,
          18.225723417580163,
          14.796367890291673,
          -65.64751312949055,
          -47.81532675942229,
          -6.240150458564931,
          110.14234245119485,
          -3.194212154551322,
          23.617812508124068,
          12.243606302411782,
          -34.86819724876489,
          -53.04930805862761,
          29.36837916097864,
          -1.421869627867758,
          46.686287677021184,
          -34.12948002073289,
          20.920622947739698,
          -55.07275909019818,
          -7.082362085239262,
          -45.93524797433795,
          -46.20267703526877,
          -27.4107774246029,
          -68.43448536005879,
          -46.58273210449103,
          -3.912661180195747,
          -22.807569167952547,
          -32.66380132124103,
          39.61075606090822,
          7.957537085125067,
          36.69658028876838,
          -71.71868353183575,
          -21.281466865309607,
          44.4892727959812,
          18.17326310396715,
          6.284758812925364,
          -30.389669537440447,
          17.918620012111795,
          49.06856569381693,
          6.624599147774909,
          -66.66650043743276,
          -110.21612065874906,
          -22.180930388567496,
          -68.73250038650077,
          0.09541799848074087,
          -14.27001926069047,
          -14.237456879929512,
          -47.85726531215625,
          1.6516760311105902,
          -23.940369007915958,
          -100.94279375042512,
          -51.01276833846514,
          3.766752187723793,
          6.760570876471656,
          53.01714831786656,
          41.007179466637915,
          -26.82707511687917,
          -14.290564520032465,
          20.51010889675853,
          -54.27510789853536,
          -82.79901358505718,
          -65.97847142569879,
          44.80087026118941,
          -0.2437819843108371,
          6.293279506138237
         ],
         "z": [
          -80.31105636976693,
          21.093912663232203,
          -20.074720706919045,
          5.898010326021873,
          -74.03636194721373,
          0.8140550242684703,
          3.4155944648525636,
          -64.76158025992801,
          27.44482294804933,
          44.081086567451926,
          -16.85470853282024,
          11.906891072068206,
          29.774131921956066,
          6.339336489229729,
          -65.56286509901328,
          -37.89112153315075,
          26.052886536282703,
          -17.765474768467627,
          -58.49077582517686,
          -21.43868790480784,
          -4.727954761982177,
          18.54976231502432,
          -20.88417389524225,
          17.829773097057117,
          -33.240541966855595,
          -6.237792182588436,
          -19.947353051105264,
          13.269112742389144,
          -24.44886426569655,
          -11.994075785315786,
          -18.048058459501338,
          13.699269137006219,
          -54.0712675357207,
          -0.6448431042380768,
          -9.257913826617992,
          -17.2418865517808,
          -14.847166624719538,
          -27.18702329392286,
          6.332674241034528,
          -2.09893859075161,
          -27.552938190390464,
          -49.244996549374186,
          -31.265581107858623,
          -13.622837826669207,
          -19.984116785241778,
          -35.17414106508452,
          46.70225091837009,
          119.93496706059774,
          -30.71413914255923,
          39.32813411677261,
          -38.05774817805238,
          41.94854203151778,
          3.7979706362065877,
          -3.606245434080942,
          -76.20642518873551,
          -46.796491271260166,
          -0.0752525543968499,
          -33.50524896432202,
          -20.859845355290677,
          15.113599356251656,
          5.486942046932698,
          56.916301577882095,
          39.41773171380099,
          11.590773212437448,
          2.6544976694495337,
          7.146926292640616,
          20.654268406031004,
          -18.12307498762465,
          -21.501750241522526,
          88.12746155939675,
          28.56270239253655,
          19.101383106397083,
          -24.40687023899523,
          -20.908077135425007,
          -13.684118725199594,
          39.022206713170355,
          -18.18999322270459,
          14.331292970177744,
          -36.800387133421495,
          12.44831341743349,
          10.596964428577147,
          -65.7558985068913,
          -29.62991164340662,
          -3.3515153595872715
         ]
        },
        {
         "hovertemplate": "names=T2D-partially pancreatectomized patient<br>0=%{x}<br>1=%{y}<br>2=%{z}<extra></extra>",
         "legendgroup": "T2D-partially pancreatectomized patient",
         "marker": {
          "color": "#00cc96",
          "symbol": "circle"
         },
         "mode": "markers",
         "name": "T2D-partially pancreatectomized patient",
         "scene": "scene",
         "showlegend": true,
         "type": "scatter3d",
         "x": [
          -118.87553289925772,
          -131.05880062235232,
          -139.03963591633112,
          -118.47617955069227,
          -115.63931385809518,
          -148.5523716734684,
          -158.88954093200815,
          -124.67497084362304,
          -129.18745353150368,
          -117.55825495626001,
          -128.79703365456822,
          -136.5055119814656,
          -83.79699423528989,
          -40.30986538577669,
          -132.0395040661523,
          -130.65166039720754,
          -133.15617430507575,
          -101.77425198333073,
          -50.65768025541729,
          -113.49989504493178,
          -96.57262982120162,
          -98.79085080419388,
          -117.66627754576326,
          -129.84209015358556,
          -98.11898245051066,
          -94.78343549990322,
          -86.42103447107519,
          -127.917656815403,
          -76.39440475944217,
          -131.50803220917433,
          -119.58856160856227,
          -131.89867441973635,
          -97.46998431361072,
          -128.4136131586776,
          -140.6901283892103,
          -162.6927745420415
         ],
         "y": [
          -21.581887299246787,
          1.2859050549184086,
          61.94437069062284,
          22.858700795182397,
          9.877720043678137,
          -36.70596147980582,
          28.914809169030633,
          1.5786296176423509,
          10.67384498946751,
          28.267410050422818,
          0.9499709044252223,
          38.04677466668484,
          25.63018256215689,
          104.87489402088792,
          7.111190541858108,
          19.002629016795538,
          28.9768488057836,
          14.144761758995806,
          90.48360684798634,
          8.758998497191318,
          3.5286533222993515,
          42.99171967497548,
          8.786512263994092,
          -46.8852242350482,
          -30.356074213690704,
          -6.019236259234418,
          70.82335695872341,
          15.566030474064785,
          -65.5762269079623,
          -24.811072646947963,
          -30.699539199484157,
          -7.723947172836399,
          46.488800264156765,
          79.08915190095084,
          14.791216884403,
          79.32401485780892
         ],
         "z": [
          39.25828755472279,
          -61.745030899701014,
          20.867588605237728,
          -30.499417398977485,
          -55.084758934576676,
          5.268054607486099,
          61.908301068675186,
          5.143858335435017,
          56.08726132981035,
          -27.065609733112865,
          8.938205593703126,
          40.983933126124576,
          24.446188699217796,
          -24.28976797433406,
          94.52579527972287,
          -16.307986591701326,
          -7.72298927220626,
          92.6769043227772,
          67.18993300305232,
          -21.35624829808726,
          11.972441249619509,
          90.16132864855994,
          28.150568286440823,
          47.962631277357175,
          -49.60940149779983,
          8.734238484721287,
          65.24466371600546,
          -8.135771265947666,
          -1.7340088284307889,
          61.04607225715363,
          -12.391283901453376,
          38.31869051410268,
          64.48857962135335,
          6.234673059582018,
          12.040770236503691,
          66.86383984150578
         ]
        },
        {
         "hovertemplate": "names=ND-partially pancreatectomized patient<br>0=%{x}<br>1=%{y}<br>2=%{z}<extra></extra>",
         "legendgroup": "ND-partially pancreatectomized patient",
         "marker": {
          "color": "#ab63fa",
          "symbol": "circle"
         },
         "mode": "markers",
         "name": "ND-partially pancreatectomized patient",
         "scene": "scene",
         "showlegend": true,
         "type": "scatter3d",
         "x": [
          -126.6426003918967,
          -120.02882257551266,
          -112.66863211181321,
          -90.30794539365388,
          -131.38746726438467,
          -111.19491267144593,
          -27.420057713293463,
          -24.729906752245693,
          -150.2122570112074,
          -37.785784718156854,
          -152.07101987292828,
          -172.49556751190872,
          -152.14555130043405,
          -124.81533112644756,
          -120.96559501569716,
          -114.02869760472268,
          -68.59373365292583,
          -106.54048224921694,
          -123.6743489283306,
          -114.97473092940365,
          -89.90045808642196,
          -101.99624428214861,
          -90.95711436034611,
          -95.04258980531826,
          -127.03906202091159,
          -113.81773050089245,
          -100.8252156621267,
          -142.6084411420282,
          -107.6993958432456,
          -118.69726484215428,
          -116.5709136557577,
          -120.53694387201381
         ],
         "y": [
          65.13807635360342,
          -18.392331386449257,
          -14.663313427552174,
          36.87022145880776,
          -4.830368982858884,
          1.0029281626423954,
          67.70520335779062,
          40.40321687648308,
          -34.857968678103525,
          42.18022656780689,
          -29.356494727695043,
          10.908795786849337,
          -26.793336237218387,
          1.2435016378342458,
          -23.868755041783597,
          -33.4152058562135,
          87.8299423792126,
          20.407559445052755,
          -71.08337812473836,
          -33.755874637914616,
          -29.661111878515033,
          -38.03219644078637,
          -21.948245692842924,
          91.54786702187033,
          11.23993455806304,
          -23.132955728562496,
          -28.31798435814498,
          69.724057540082,
          -53.07056586639772,
          112.15817692419208,
          -10.221342629226312,
          -16.260391289104117
         ],
         "z": [
          -27.85241806023458,
          -44.135465999971295,
          -26.00754794313663,
          -12.134379651191388,
          -27.26043812860777,
          -22.459310997364767,
          20.408941662713946,
          11.431675557981036,
          1.4316711631520953,
          60.00333817717234,
          8.683153957831836,
          0.015323820150665322,
          -66.74134708222749,
          -57.131899105241715,
          -37.98349311720362,
          -25.016198063386117,
          75.72842254115065,
          -38.11535114064955,
          14.230326697122095,
          -53.82121981074883,
          -95.15243129418214,
          -71.69338972816281,
          -58.20481199587734,
          116.02762571061507,
          28.00842517086014,
          43.4959053629417,
          -28.21632509934311,
          -75.55397855866528,
          -15.761484280866485,
          -83.16638246000848,
          -56.08873810669492,
          -46.74500285669357
         ]
        }
       ],
       "layout": {
        "legend": {
         "title": {
          "text": "names"
         },
         "tracegroupgap": 0
        },
        "margin": {
         "t": 60
        },
        "scene": {
         "domain": {
          "x": [
           0,
           1
          ],
          "y": [
           0,
           1
          ]
         },
         "xaxis": {
          "title": {
           "text": "0"
          }
         },
         "yaxis": {
          "title": {
           "text": "1"
          }
         },
         "zaxis": {
          "title": {
           "text": "2"
          }
         }
        },
        "template": {
         "data": {
          "bar": [
           {
            "error_x": {
             "color": "#2a3f5f"
            },
            "error_y": {
             "color": "#2a3f5f"
            },
            "marker": {
             "line": {
              "color": "#E5ECF6",
              "width": 0.5
             }
            },
            "type": "bar"
           }
          ],
          "barpolar": [
           {
            "marker": {
             "line": {
              "color": "#E5ECF6",
              "width": 0.5
             }
            },
            "type": "barpolar"
           }
          ],
          "carpet": [
           {
            "aaxis": {
             "endlinecolor": "#2a3f5f",
             "gridcolor": "white",
             "linecolor": "white",
             "minorgridcolor": "white",
             "startlinecolor": "#2a3f5f"
            },
            "baxis": {
             "endlinecolor": "#2a3f5f",
             "gridcolor": "white",
             "linecolor": "white",
             "minorgridcolor": "white",
             "startlinecolor": "#2a3f5f"
            },
            "type": "carpet"
           }
          ],
          "choropleth": [
           {
            "colorbar": {
             "outlinewidth": 0,
             "ticks": ""
            },
            "type": "choropleth"
           }
          ],
          "contour": [
           {
            "colorbar": {
             "outlinewidth": 0,
             "ticks": ""
            },
            "colorscale": [
             [
              0,
              "#0d0887"
             ],
             [
              0.1111111111111111,
              "#46039f"
             ],
             [
              0.2222222222222222,
              "#7201a8"
             ],
             [
              0.3333333333333333,
              "#9c179e"
             ],
             [
              0.4444444444444444,
              "#bd3786"
             ],
             [
              0.5555555555555556,
              "#d8576b"
             ],
             [
              0.6666666666666666,
              "#ed7953"
             ],
             [
              0.7777777777777778,
              "#fb9f3a"
             ],
             [
              0.8888888888888888,
              "#fdca26"
             ],
             [
              1,
              "#f0f921"
             ]
            ],
            "type": "contour"
           }
          ],
          "contourcarpet": [
           {
            "colorbar": {
             "outlinewidth": 0,
             "ticks": ""
            },
            "type": "contourcarpet"
           }
          ],
          "heatmap": [
           {
            "colorbar": {
             "outlinewidth": 0,
             "ticks": ""
            },
            "colorscale": [
             [
              0,
              "#0d0887"
             ],
             [
              0.1111111111111111,
              "#46039f"
             ],
             [
              0.2222222222222222,
              "#7201a8"
             ],
             [
              0.3333333333333333,
              "#9c179e"
             ],
             [
              0.4444444444444444,
              "#bd3786"
             ],
             [
              0.5555555555555556,
              "#d8576b"
             ],
             [
              0.6666666666666666,
              "#ed7953"
             ],
             [
              0.7777777777777778,
              "#fb9f3a"
             ],
             [
              0.8888888888888888,
              "#fdca26"
             ],
             [
              1,
              "#f0f921"
             ]
            ],
            "type": "heatmap"
           }
          ],
          "heatmapgl": [
           {
            "colorbar": {
             "outlinewidth": 0,
             "ticks": ""
            },
            "colorscale": [
             [
              0,
              "#0d0887"
             ],
             [
              0.1111111111111111,
              "#46039f"
             ],
             [
              0.2222222222222222,
              "#7201a8"
             ],
             [
              0.3333333333333333,
              "#9c179e"
             ],
             [
              0.4444444444444444,
              "#bd3786"
             ],
             [
              0.5555555555555556,
              "#d8576b"
             ],
             [
              0.6666666666666666,
              "#ed7953"
             ],
             [
              0.7777777777777778,
              "#fb9f3a"
             ],
             [
              0.8888888888888888,
              "#fdca26"
             ],
             [
              1,
              "#f0f921"
             ]
            ],
            "type": "heatmapgl"
           }
          ],
          "histogram": [
           {
            "marker": {
             "colorbar": {
              "outlinewidth": 0,
              "ticks": ""
             }
            },
            "type": "histogram"
           }
          ],
          "histogram2d": [
           {
            "colorbar": {
             "outlinewidth": 0,
             "ticks": ""
            },
            "colorscale": [
             [
              0,
              "#0d0887"
             ],
             [
              0.1111111111111111,
              "#46039f"
             ],
             [
              0.2222222222222222,
              "#7201a8"
             ],
             [
              0.3333333333333333,
              "#9c179e"
             ],
             [
              0.4444444444444444,
              "#bd3786"
             ],
             [
              0.5555555555555556,
              "#d8576b"
             ],
             [
              0.6666666666666666,
              "#ed7953"
             ],
             [
              0.7777777777777778,
              "#fb9f3a"
             ],
             [
              0.8888888888888888,
              "#fdca26"
             ],
             [
              1,
              "#f0f921"
             ]
            ],
            "type": "histogram2d"
           }
          ],
          "histogram2dcontour": [
           {
            "colorbar": {
             "outlinewidth": 0,
             "ticks": ""
            },
            "colorscale": [
             [
              0,
              "#0d0887"
             ],
             [
              0.1111111111111111,
              "#46039f"
             ],
             [
              0.2222222222222222,
              "#7201a8"
             ],
             [
              0.3333333333333333,
              "#9c179e"
             ],
             [
              0.4444444444444444,
              "#bd3786"
             ],
             [
              0.5555555555555556,
              "#d8576b"
             ],
             [
              0.6666666666666666,
              "#ed7953"
             ],
             [
              0.7777777777777778,
              "#fb9f3a"
             ],
             [
              0.8888888888888888,
              "#fdca26"
             ],
             [
              1,
              "#f0f921"
             ]
            ],
            "type": "histogram2dcontour"
           }
          ],
          "mesh3d": [
           {
            "colorbar": {
             "outlinewidth": 0,
             "ticks": ""
            },
            "type": "mesh3d"
           }
          ],
          "parcoords": [
           {
            "line": {
             "colorbar": {
              "outlinewidth": 0,
              "ticks": ""
             }
            },
            "type": "parcoords"
           }
          ],
          "pie": [
           {
            "automargin": true,
            "type": "pie"
           }
          ],
          "scatter": [
           {
            "marker": {
             "colorbar": {
              "outlinewidth": 0,
              "ticks": ""
             }
            },
            "type": "scatter"
           }
          ],
          "scatter3d": [
           {
            "line": {
             "colorbar": {
              "outlinewidth": 0,
              "ticks": ""
             }
            },
            "marker": {
             "colorbar": {
              "outlinewidth": 0,
              "ticks": ""
             }
            },
            "type": "scatter3d"
           }
          ],
          "scattercarpet": [
           {
            "marker": {
             "colorbar": {
              "outlinewidth": 0,
              "ticks": ""
             }
            },
            "type": "scattercarpet"
           }
          ],
          "scattergeo": [
           {
            "marker": {
             "colorbar": {
              "outlinewidth": 0,
              "ticks": ""
             }
            },
            "type": "scattergeo"
           }
          ],
          "scattergl": [
           {
            "marker": {
             "colorbar": {
              "outlinewidth": 0,
              "ticks": ""
             }
            },
            "type": "scattergl"
           }
          ],
          "scattermapbox": [
           {
            "marker": {
             "colorbar": {
              "outlinewidth": 0,
              "ticks": ""
             }
            },
            "type": "scattermapbox"
           }
          ],
          "scatterpolar": [
           {
            "marker": {
             "colorbar": {
              "outlinewidth": 0,
              "ticks": ""
             }
            },
            "type": "scatterpolar"
           }
          ],
          "scatterpolargl": [
           {
            "marker": {
             "colorbar": {
              "outlinewidth": 0,
              "ticks": ""
             }
            },
            "type": "scatterpolargl"
           }
          ],
          "scatterternary": [
           {
            "marker": {
             "colorbar": {
              "outlinewidth": 0,
              "ticks": ""
             }
            },
            "type": "scatterternary"
           }
          ],
          "surface": [
           {
            "colorbar": {
             "outlinewidth": 0,
             "ticks": ""
            },
            "colorscale": [
             [
              0,
              "#0d0887"
             ],
             [
              0.1111111111111111,
              "#46039f"
             ],
             [
              0.2222222222222222,
              "#7201a8"
             ],
             [
              0.3333333333333333,
              "#9c179e"
             ],
             [
              0.4444444444444444,
              "#bd3786"
             ],
             [
              0.5555555555555556,
              "#d8576b"
             ],
             [
              0.6666666666666666,
              "#ed7953"
             ],
             [
              0.7777777777777778,
              "#fb9f3a"
             ],
             [
              0.8888888888888888,
              "#fdca26"
             ],
             [
              1,
              "#f0f921"
             ]
            ],
            "type": "surface"
           }
          ],
          "table": [
           {
            "cells": {
             "fill": {
              "color": "#EBF0F8"
             },
             "line": {
              "color": "white"
             }
            },
            "header": {
             "fill": {
              "color": "#C8D4E3"
             },
             "line": {
              "color": "white"
             }
            },
            "type": "table"
           }
          ]
         },
         "layout": {
          "annotationdefaults": {
           "arrowcolor": "#2a3f5f",
           "arrowhead": 0,
           "arrowwidth": 1
          },
          "autotypenumbers": "strict",
          "coloraxis": {
           "colorbar": {
            "outlinewidth": 0,
            "ticks": ""
           }
          },
          "colorscale": {
           "diverging": [
            [
             0,
             "#8e0152"
            ],
            [
             0.1,
             "#c51b7d"
            ],
            [
             0.2,
             "#de77ae"
            ],
            [
             0.3,
             "#f1b6da"
            ],
            [
             0.4,
             "#fde0ef"
            ],
            [
             0.5,
             "#f7f7f7"
            ],
            [
             0.6,
             "#e6f5d0"
            ],
            [
             0.7,
             "#b8e186"
            ],
            [
             0.8,
             "#7fbc41"
            ],
            [
             0.9,
             "#4d9221"
            ],
            [
             1,
             "#276419"
            ]
           ],
           "sequential": [
            [
             0,
             "#0d0887"
            ],
            [
             0.1111111111111111,
             "#46039f"
            ],
            [
             0.2222222222222222,
             "#7201a8"
            ],
            [
             0.3333333333333333,
             "#9c179e"
            ],
            [
             0.4444444444444444,
             "#bd3786"
            ],
            [
             0.5555555555555556,
             "#d8576b"
            ],
            [
             0.6666666666666666,
             "#ed7953"
            ],
            [
             0.7777777777777778,
             "#fb9f3a"
            ],
            [
             0.8888888888888888,
             "#fdca26"
            ],
            [
             1,
             "#f0f921"
            ]
           ],
           "sequentialminus": [
            [
             0,
             "#0d0887"
            ],
            [
             0.1111111111111111,
             "#46039f"
            ],
            [
             0.2222222222222222,
             "#7201a8"
            ],
            [
             0.3333333333333333,
             "#9c179e"
            ],
            [
             0.4444444444444444,
             "#bd3786"
            ],
            [
             0.5555555555555556,
             "#d8576b"
            ],
            [
             0.6666666666666666,
             "#ed7953"
            ],
            [
             0.7777777777777778,
             "#fb9f3a"
            ],
            [
             0.8888888888888888,
             "#fdca26"
            ],
            [
             1,
             "#f0f921"
            ]
           ]
          },
          "colorway": [
           "#636efa",
           "#EF553B",
           "#00cc96",
           "#ab63fa",
           "#FFA15A",
           "#19d3f3",
           "#FF6692",
           "#B6E880",
           "#FF97FF",
           "#FECB52"
          ],
          "font": {
           "color": "#2a3f5f"
          },
          "geo": {
           "bgcolor": "white",
           "lakecolor": "white",
           "landcolor": "#E5ECF6",
           "showlakes": true,
           "showland": true,
           "subunitcolor": "white"
          },
          "hoverlabel": {
           "align": "left"
          },
          "hovermode": "closest",
          "mapbox": {
           "style": "light"
          },
          "paper_bgcolor": "white",
          "plot_bgcolor": "#E5ECF6",
          "polar": {
           "angularaxis": {
            "gridcolor": "white",
            "linecolor": "white",
            "ticks": ""
           },
           "bgcolor": "#E5ECF6",
           "radialaxis": {
            "gridcolor": "white",
            "linecolor": "white",
            "ticks": ""
           }
          },
          "scene": {
           "xaxis": {
            "backgroundcolor": "#E5ECF6",
            "gridcolor": "white",
            "gridwidth": 2,
            "linecolor": "white",
            "showbackground": true,
            "ticks": "",
            "zerolinecolor": "white"
           },
           "yaxis": {
            "backgroundcolor": "#E5ECF6",
            "gridcolor": "white",
            "gridwidth": 2,
            "linecolor": "white",
            "showbackground": true,
            "ticks": "",
            "zerolinecolor": "white"
           },
           "zaxis": {
            "backgroundcolor": "#E5ECF6",
            "gridcolor": "white",
            "gridwidth": 2,
            "linecolor": "white",
            "showbackground": true,
            "ticks": "",
            "zerolinecolor": "white"
           }
          },
          "shapedefaults": {
           "line": {
            "color": "#2a3f5f"
           }
          },
          "ternary": {
           "aaxis": {
            "gridcolor": "white",
            "linecolor": "white",
            "ticks": ""
           },
           "baxis": {
            "gridcolor": "white",
            "linecolor": "white",
            "ticks": ""
           },
           "bgcolor": "#E5ECF6",
           "caxis": {
            "gridcolor": "white",
            "linecolor": "white",
            "ticks": ""
           }
          },
          "title": {
           "x": 0.05
          },
          "xaxis": {
           "automargin": true,
           "gridcolor": "white",
           "linecolor": "white",
           "ticks": "",
           "title": {
            "standoff": 15
           },
           "zerolinecolor": "white",
           "zerolinewidth": 2
          },
          "yaxis": {
           "automargin": true,
           "gridcolor": "white",
           "linecolor": "white",
           "ticks": "",
           "title": {
            "standoff": 15
           },
           "zerolinecolor": "white",
           "zerolinewidth": 2
          }
         }
        }
       }
      },
      "text/html": [
       "<div>                            <div id=\"3fecc453-ca58-49e2-81a2-448728d19f4c\" class=\"plotly-graph-div\" style=\"height:525px; width:100%;\"></div>            <script type=\"text/javascript\">                require([\"plotly\"], function(Plotly) {                    window.PLOTLYENV=window.PLOTLYENV || {};                                    if (document.getElementById(\"3fecc453-ca58-49e2-81a2-448728d19f4c\")) {                    Plotly.newPlot(                        \"3fecc453-ca58-49e2-81a2-448728d19f4c\",                        [{\"hovertemplate\": \"names=T2D-organ donor<br>0=%{x}<br>1=%{y}<br>2=%{z}<extra></extra>\", \"legendgroup\": \"T2D-organ donor\", \"marker\": {\"color\": \"#636efa\", \"symbol\": \"circle\"}, \"mode\": \"markers\", \"name\": \"T2D-organ donor\", \"scene\": \"scene\", \"showlegend\": true, \"type\": \"scatter3d\", \"x\": [160.45317507298537, 77.32050168605477, 98.81952902018163, 121.05488326140325, 85.74888220888995, 69.85042210735999, 57.72961963725476, 105.37230246763878, 94.0242769994887, 62.238933376023255, 135.36374192241396, 74.30465351682874, 146.74994366723212, 101.93839747814646, 58.07833489724599, 102.3549417189323, 97.94618256856539, 106.6618804371784, 139.94797675717993], \"y\": [62.5187022343924, -22.245069572408674, -23.647967774072747, 37.45009259253401, -52.96425317415138, -39.027040302129485, -42.00852487950334, 7.049859469479542, -3.748303103512156, -60.4936195955359, 37.76812434273366, 24.839797649503225, 40.94791619534229, 40.57184110388793, 17.353602976745464, 16.324822115751168, -1.265114441186627, 0.18966272399709505, 57.032126557060494], \"z\": [32.9845030405647, 37.06139380552961, 67.16053908463628, -37.936039697215044, 18.918688145807547, 10.118966625808595, 66.70400110431183, 2.6484880436077374, 13.17821163120845, 26.179122833170815, 11.312040965313807, -0.2021979909371299, -4.533834091584727, 8.11894536311376, 52.63838478980207, 46.83116127282889, 13.139215036668217, 60.44962854407476, -5.86668649159183]}, {\"hovertemplate\": \"names=ND-organ donor<br>0=%{x}<br>1=%{y}<br>2=%{z}<extra></extra>\", \"legendgroup\": \"ND-organ donor\", \"marker\": {\"color\": \"#EF553B\", \"symbol\": \"circle\"}, \"mode\": \"markers\", \"name\": \"ND-organ donor\", \"scene\": \"scene\", \"showlegend\": true, \"type\": \"scatter3d\", \"x\": [116.95117729427922, 103.00761274954252, 32.69529190140075, 76.44889737348981, 113.11871249071653, 115.04472162954475, 68.36307248275048, 13.982016595864023, 73.29747717072304, 38.40773359792795, 99.30835291121889, 71.26430090764941, 37.99422857381018, 94.44903686111039, 2.370387827254539, 12.801236503510003, 62.72170008583672, 118.99757698286628, 31.623693452722073, 58.84907629068084, 99.41557217897078, 113.70102449062132, 42.40241278086871, 30.994676123440506, 32.93772533299649, 45.90948950364261, 176.37731114702459, 79.43226946928851, 107.94140629282779, 86.64187416423722, 13.321061300727843, 55.37296377069367, 79.89380580424086, 56.26717483111518, 79.97088346993706, 11.348605462478792, 85.32845842123983, 25.844271899089698, 123.51234923379047, 69.07392993592248, 63.52019574277012, 37.06619711728968, 35.517239831079856, 6.597927943293688, 50.121788489538254, 89.18915075965963, 56.95402790925571, 90.63565492394473, 117.38061132468376, 89.46933518788236, 37.074965116380405, 91.29498647685786, 110.04317568771853, 110.09788208036277, 53.02486751852686, 73.14692947169108, 103.67093850825019, 99.20271045685908, 54.75041138394165, 54.221388292812115, 3.41347165957709, 61.091000444486205, 27.05802464308177, 96.89343823743216, 106.00576337256754, 92.1274809390538, 78.11489435807785, 97.65411404370849, 67.94068604745348, 6.676150764969787, 61.721634000899435, 97.61667383710639, 41.64610073179359, 118.201107507721, 98.25078060695266, 67.39625383351324, 94.88887157969734, 97.52417386810833, -2.032027914123675, 12.484787249485652, 17.647325649869693, 78.09636668576165, 92.56884375853794, 110.97612769830405], \"y\": [81.39319464004237, 1.7260053970571438, -67.43533678177536, -50.6386258272592, 111.6008244997164, 13.402920664011344, -75.75151462664458, -16.484520591128234, -24.030778468685405, -66.33028009250714, 116.17861324207304, 51.93858347577294, -76.66060935497217, -39.01781426330347, -1.0707833608111479, 5.9271940053777294, -31.364510485336073, 34.51240362642027, 23.86996803764477, 3.094744232417695, -23.01216520562968, 18.225723417580163, 14.796367890291673, -65.64751312949055, -47.81532675942229, -6.240150458564931, 110.14234245119485, -3.194212154551322, 23.617812508124068, 12.243606302411782, -34.86819724876489, -53.04930805862761, 29.36837916097864, -1.421869627867758, 46.686287677021184, -34.12948002073289, 20.920622947739698, -55.07275909019818, -7.082362085239262, -45.93524797433795, -46.20267703526877, -27.4107774246029, -68.43448536005879, -46.58273210449103, -3.912661180195747, -22.807569167952547, -32.66380132124103, 39.61075606090822, 7.957537085125067, 36.69658028876838, -71.71868353183575, -21.281466865309607, 44.4892727959812, 18.17326310396715, 6.284758812925364, -30.389669537440447, 17.918620012111795, 49.06856569381693, 6.624599147774909, -66.66650043743276, -110.21612065874906, -22.180930388567496, -68.73250038650077, 0.09541799848074087, -14.27001926069047, -14.237456879929512, -47.85726531215625, 1.6516760311105902, -23.940369007915958, -100.94279375042512, -51.01276833846514, 3.766752187723793, 6.760570876471656, 53.01714831786656, 41.007179466637915, -26.82707511687917, -14.290564520032465, 20.51010889675853, -54.27510789853536, -82.79901358505718, -65.97847142569879, 44.80087026118941, -0.2437819843108371, 6.293279506138237], \"z\": [-80.31105636976693, 21.093912663232203, -20.074720706919045, 5.898010326021873, -74.03636194721373, 0.8140550242684703, 3.4155944648525636, -64.76158025992801, 27.44482294804933, 44.081086567451926, -16.85470853282024, 11.906891072068206, 29.774131921956066, 6.339336489229729, -65.56286509901328, -37.89112153315075, 26.052886536282703, -17.765474768467627, -58.49077582517686, -21.43868790480784, -4.727954761982177, 18.54976231502432, -20.88417389524225, 17.829773097057117, -33.240541966855595, -6.237792182588436, -19.947353051105264, 13.269112742389144, -24.44886426569655, -11.994075785315786, -18.048058459501338, 13.699269137006219, -54.0712675357207, -0.6448431042380768, -9.257913826617992, -17.2418865517808, -14.847166624719538, -27.18702329392286, 6.332674241034528, -2.09893859075161, -27.552938190390464, -49.244996549374186, -31.265581107858623, -13.622837826669207, -19.984116785241778, -35.17414106508452, 46.70225091837009, 119.93496706059774, -30.71413914255923, 39.32813411677261, -38.05774817805238, 41.94854203151778, 3.7979706362065877, -3.606245434080942, -76.20642518873551, -46.796491271260166, -0.0752525543968499, -33.50524896432202, -20.859845355290677, 15.113599356251656, 5.486942046932698, 56.916301577882095, 39.41773171380099, 11.590773212437448, 2.6544976694495337, 7.146926292640616, 20.654268406031004, -18.12307498762465, -21.501750241522526, 88.12746155939675, 28.56270239253655, 19.101383106397083, -24.40687023899523, -20.908077135425007, -13.684118725199594, 39.022206713170355, -18.18999322270459, 14.331292970177744, -36.800387133421495, 12.44831341743349, 10.596964428577147, -65.7558985068913, -29.62991164340662, -3.3515153595872715]}, {\"hovertemplate\": \"names=T2D-partially pancreatectomized patient<br>0=%{x}<br>1=%{y}<br>2=%{z}<extra></extra>\", \"legendgroup\": \"T2D-partially pancreatectomized patient\", \"marker\": {\"color\": \"#00cc96\", \"symbol\": \"circle\"}, \"mode\": \"markers\", \"name\": \"T2D-partially pancreatectomized patient\", \"scene\": \"scene\", \"showlegend\": true, \"type\": \"scatter3d\", \"x\": [-118.87553289925772, -131.05880062235232, -139.03963591633112, -118.47617955069227, -115.63931385809518, -148.5523716734684, -158.88954093200815, -124.67497084362304, -129.18745353150368, -117.55825495626001, -128.79703365456822, -136.5055119814656, -83.79699423528989, -40.30986538577669, -132.0395040661523, -130.65166039720754, -133.15617430507575, -101.77425198333073, -50.65768025541729, -113.49989504493178, -96.57262982120162, -98.79085080419388, -117.66627754576326, -129.84209015358556, -98.11898245051066, -94.78343549990322, -86.42103447107519, -127.917656815403, -76.39440475944217, -131.50803220917433, -119.58856160856227, -131.89867441973635, -97.46998431361072, -128.4136131586776, -140.6901283892103, -162.6927745420415], \"y\": [-21.581887299246787, 1.2859050549184086, 61.94437069062284, 22.858700795182397, 9.877720043678137, -36.70596147980582, 28.914809169030633, 1.5786296176423509, 10.67384498946751, 28.267410050422818, 0.9499709044252223, 38.04677466668484, 25.63018256215689, 104.87489402088792, 7.111190541858108, 19.002629016795538, 28.9768488057836, 14.144761758995806, 90.48360684798634, 8.758998497191318, 3.5286533222993515, 42.99171967497548, 8.786512263994092, -46.8852242350482, -30.356074213690704, -6.019236259234418, 70.82335695872341, 15.566030474064785, -65.5762269079623, -24.811072646947963, -30.699539199484157, -7.723947172836399, 46.488800264156765, 79.08915190095084, 14.791216884403, 79.32401485780892], \"z\": [39.25828755472279, -61.745030899701014, 20.867588605237728, -30.499417398977485, -55.084758934576676, 5.268054607486099, 61.908301068675186, 5.143858335435017, 56.08726132981035, -27.065609733112865, 8.938205593703126, 40.983933126124576, 24.446188699217796, -24.28976797433406, 94.52579527972287, -16.307986591701326, -7.72298927220626, 92.6769043227772, 67.18993300305232, -21.35624829808726, 11.972441249619509, 90.16132864855994, 28.150568286440823, 47.962631277357175, -49.60940149779983, 8.734238484721287, 65.24466371600546, -8.135771265947666, -1.7340088284307889, 61.04607225715363, -12.391283901453376, 38.31869051410268, 64.48857962135335, 6.234673059582018, 12.040770236503691, 66.86383984150578]}, {\"hovertemplate\": \"names=ND-partially pancreatectomized patient<br>0=%{x}<br>1=%{y}<br>2=%{z}<extra></extra>\", \"legendgroup\": \"ND-partially pancreatectomized patient\", \"marker\": {\"color\": \"#ab63fa\", \"symbol\": \"circle\"}, \"mode\": \"markers\", \"name\": \"ND-partially pancreatectomized patient\", \"scene\": \"scene\", \"showlegend\": true, \"type\": \"scatter3d\", \"x\": [-126.6426003918967, -120.02882257551266, -112.66863211181321, -90.30794539365388, -131.38746726438467, -111.19491267144593, -27.420057713293463, -24.729906752245693, -150.2122570112074, -37.785784718156854, -152.07101987292828, -172.49556751190872, -152.14555130043405, -124.81533112644756, -120.96559501569716, -114.02869760472268, -68.59373365292583, -106.54048224921694, -123.6743489283306, -114.97473092940365, -89.90045808642196, -101.99624428214861, -90.95711436034611, -95.04258980531826, -127.03906202091159, -113.81773050089245, -100.8252156621267, -142.6084411420282, -107.6993958432456, -118.69726484215428, -116.5709136557577, -120.53694387201381], \"y\": [65.13807635360342, -18.392331386449257, -14.663313427552174, 36.87022145880776, -4.830368982858884, 1.0029281626423954, 67.70520335779062, 40.40321687648308, -34.857968678103525, 42.18022656780689, -29.356494727695043, 10.908795786849337, -26.793336237218387, 1.2435016378342458, -23.868755041783597, -33.4152058562135, 87.8299423792126, 20.407559445052755, -71.08337812473836, -33.755874637914616, -29.661111878515033, -38.03219644078637, -21.948245692842924, 91.54786702187033, 11.23993455806304, -23.132955728562496, -28.31798435814498, 69.724057540082, -53.07056586639772, 112.15817692419208, -10.221342629226312, -16.260391289104117], \"z\": [-27.85241806023458, -44.135465999971295, -26.00754794313663, -12.134379651191388, -27.26043812860777, -22.459310997364767, 20.408941662713946, 11.431675557981036, 1.4316711631520953, 60.00333817717234, 8.683153957831836, 0.015323820150665322, -66.74134708222749, -57.131899105241715, -37.98349311720362, -25.016198063386117, 75.72842254115065, -38.11535114064955, 14.230326697122095, -53.82121981074883, -95.15243129418214, -71.69338972816281, -58.20481199587734, 116.02762571061507, 28.00842517086014, 43.4959053629417, -28.21632509934311, -75.55397855866528, -15.761484280866485, -83.16638246000848, -56.08873810669492, -46.74500285669357]}],                        {\"legend\": {\"title\": {\"text\": \"names\"}, \"tracegroupgap\": 0}, \"margin\": {\"t\": 60}, \"scene\": {\"domain\": {\"x\": [0.0, 1.0], \"y\": [0.0, 1.0]}, \"xaxis\": {\"title\": {\"text\": \"0\"}}, \"yaxis\": {\"title\": {\"text\": \"1\"}}, \"zaxis\": {\"title\": {\"text\": \"2\"}}}, \"template\": {\"data\": {\"bar\": [{\"error_x\": {\"color\": \"#2a3f5f\"}, \"error_y\": {\"color\": \"#2a3f5f\"}, \"marker\": {\"line\": {\"color\": \"#E5ECF6\", \"width\": 0.5}}, \"type\": \"bar\"}], \"barpolar\": [{\"marker\": {\"line\": {\"color\": \"#E5ECF6\", \"width\": 0.5}}, \"type\": \"barpolar\"}], \"carpet\": [{\"aaxis\": {\"endlinecolor\": \"#2a3f5f\", \"gridcolor\": \"white\", \"linecolor\": \"white\", \"minorgridcolor\": \"white\", \"startlinecolor\": \"#2a3f5f\"}, \"baxis\": {\"endlinecolor\": \"#2a3f5f\", \"gridcolor\": \"white\", \"linecolor\": \"white\", \"minorgridcolor\": \"white\", \"startlinecolor\": \"#2a3f5f\"}, \"type\": \"carpet\"}], \"choropleth\": [{\"colorbar\": {\"outlinewidth\": 0, \"ticks\": \"\"}, \"type\": \"choropleth\"}], \"contour\": [{\"colorbar\": {\"outlinewidth\": 0, \"ticks\": \"\"}, \"colorscale\": [[0.0, \"#0d0887\"], [0.1111111111111111, \"#46039f\"], [0.2222222222222222, \"#7201a8\"], [0.3333333333333333, \"#9c179e\"], [0.4444444444444444, \"#bd3786\"], [0.5555555555555556, \"#d8576b\"], [0.6666666666666666, \"#ed7953\"], [0.7777777777777778, \"#fb9f3a\"], [0.8888888888888888, \"#fdca26\"], [1.0, \"#f0f921\"]], \"type\": \"contour\"}], \"contourcarpet\": [{\"colorbar\": {\"outlinewidth\": 0, \"ticks\": \"\"}, \"type\": \"contourcarpet\"}], \"heatmap\": [{\"colorbar\": {\"outlinewidth\": 0, \"ticks\": \"\"}, \"colorscale\": [[0.0, \"#0d0887\"], [0.1111111111111111, \"#46039f\"], [0.2222222222222222, \"#7201a8\"], [0.3333333333333333, \"#9c179e\"], [0.4444444444444444, \"#bd3786\"], [0.5555555555555556, \"#d8576b\"], [0.6666666666666666, \"#ed7953\"], [0.7777777777777778, \"#fb9f3a\"], [0.8888888888888888, \"#fdca26\"], [1.0, \"#f0f921\"]], \"type\": \"heatmap\"}], \"heatmapgl\": [{\"colorbar\": {\"outlinewidth\": 0, \"ticks\": \"\"}, \"colorscale\": [[0.0, \"#0d0887\"], [0.1111111111111111, \"#46039f\"], [0.2222222222222222, \"#7201a8\"], [0.3333333333333333, \"#9c179e\"], [0.4444444444444444, \"#bd3786\"], [0.5555555555555556, \"#d8576b\"], [0.6666666666666666, \"#ed7953\"], [0.7777777777777778, \"#fb9f3a\"], [0.8888888888888888, \"#fdca26\"], [1.0, \"#f0f921\"]], \"type\": \"heatmapgl\"}], \"histogram\": [{\"marker\": {\"colorbar\": {\"outlinewidth\": 0, \"ticks\": \"\"}}, \"type\": \"histogram\"}], \"histogram2d\": [{\"colorbar\": {\"outlinewidth\": 0, \"ticks\": \"\"}, \"colorscale\": [[0.0, \"#0d0887\"], [0.1111111111111111, \"#46039f\"], [0.2222222222222222, \"#7201a8\"], [0.3333333333333333, \"#9c179e\"], [0.4444444444444444, \"#bd3786\"], [0.5555555555555556, \"#d8576b\"], [0.6666666666666666, \"#ed7953\"], [0.7777777777777778, \"#fb9f3a\"], [0.8888888888888888, \"#fdca26\"], [1.0, \"#f0f921\"]], \"type\": \"histogram2d\"}], \"histogram2dcontour\": [{\"colorbar\": {\"outlinewidth\": 0, \"ticks\": \"\"}, \"colorscale\": [[0.0, \"#0d0887\"], [0.1111111111111111, \"#46039f\"], [0.2222222222222222, \"#7201a8\"], [0.3333333333333333, \"#9c179e\"], [0.4444444444444444, \"#bd3786\"], [0.5555555555555556, \"#d8576b\"], [0.6666666666666666, \"#ed7953\"], [0.7777777777777778, \"#fb9f3a\"], [0.8888888888888888, \"#fdca26\"], [1.0, \"#f0f921\"]], \"type\": \"histogram2dcontour\"}], \"mesh3d\": [{\"colorbar\": {\"outlinewidth\": 0, \"ticks\": \"\"}, \"type\": \"mesh3d\"}], \"parcoords\": [{\"line\": {\"colorbar\": {\"outlinewidth\": 0, \"ticks\": \"\"}}, \"type\": \"parcoords\"}], \"pie\": [{\"automargin\": true, \"type\": \"pie\"}], \"scatter\": [{\"marker\": {\"colorbar\": {\"outlinewidth\": 0, \"ticks\": \"\"}}, \"type\": \"scatter\"}], \"scatter3d\": [{\"line\": {\"colorbar\": {\"outlinewidth\": 0, \"ticks\": \"\"}}, \"marker\": {\"colorbar\": {\"outlinewidth\": 0, \"ticks\": \"\"}}, \"type\": \"scatter3d\"}], \"scattercarpet\": [{\"marker\": {\"colorbar\": {\"outlinewidth\": 0, \"ticks\": \"\"}}, \"type\": \"scattercarpet\"}], \"scattergeo\": [{\"marker\": {\"colorbar\": {\"outlinewidth\": 0, \"ticks\": \"\"}}, \"type\": \"scattergeo\"}], \"scattergl\": [{\"marker\": {\"colorbar\": {\"outlinewidth\": 0, \"ticks\": \"\"}}, \"type\": \"scattergl\"}], \"scattermapbox\": [{\"marker\": {\"colorbar\": {\"outlinewidth\": 0, \"ticks\": \"\"}}, \"type\": \"scattermapbox\"}], \"scatterpolar\": [{\"marker\": {\"colorbar\": {\"outlinewidth\": 0, \"ticks\": \"\"}}, \"type\": \"scatterpolar\"}], \"scatterpolargl\": [{\"marker\": {\"colorbar\": {\"outlinewidth\": 0, \"ticks\": \"\"}}, \"type\": \"scatterpolargl\"}], \"scatterternary\": [{\"marker\": {\"colorbar\": {\"outlinewidth\": 0, \"ticks\": \"\"}}, \"type\": \"scatterternary\"}], \"surface\": [{\"colorbar\": {\"outlinewidth\": 0, \"ticks\": \"\"}, \"colorscale\": [[0.0, \"#0d0887\"], [0.1111111111111111, \"#46039f\"], [0.2222222222222222, \"#7201a8\"], [0.3333333333333333, \"#9c179e\"], [0.4444444444444444, \"#bd3786\"], [0.5555555555555556, \"#d8576b\"], [0.6666666666666666, \"#ed7953\"], [0.7777777777777778, \"#fb9f3a\"], [0.8888888888888888, \"#fdca26\"], [1.0, \"#f0f921\"]], \"type\": \"surface\"}], \"table\": [{\"cells\": {\"fill\": {\"color\": \"#EBF0F8\"}, \"line\": {\"color\": \"white\"}}, \"header\": {\"fill\": {\"color\": \"#C8D4E3\"}, \"line\": {\"color\": \"white\"}}, \"type\": \"table\"}]}, \"layout\": {\"annotationdefaults\": {\"arrowcolor\": \"#2a3f5f\", \"arrowhead\": 0, \"arrowwidth\": 1}, \"autotypenumbers\": \"strict\", \"coloraxis\": {\"colorbar\": {\"outlinewidth\": 0, \"ticks\": \"\"}}, \"colorscale\": {\"diverging\": [[0, \"#8e0152\"], [0.1, \"#c51b7d\"], [0.2, \"#de77ae\"], [0.3, \"#f1b6da\"], [0.4, \"#fde0ef\"], [0.5, \"#f7f7f7\"], [0.6, \"#e6f5d0\"], [0.7, \"#b8e186\"], [0.8, \"#7fbc41\"], [0.9, \"#4d9221\"], [1, \"#276419\"]], \"sequential\": [[0.0, \"#0d0887\"], [0.1111111111111111, \"#46039f\"], [0.2222222222222222, \"#7201a8\"], [0.3333333333333333, \"#9c179e\"], [0.4444444444444444, \"#bd3786\"], [0.5555555555555556, \"#d8576b\"], [0.6666666666666666, \"#ed7953\"], [0.7777777777777778, \"#fb9f3a\"], [0.8888888888888888, \"#fdca26\"], [1.0, \"#f0f921\"]], \"sequentialminus\": [[0.0, \"#0d0887\"], [0.1111111111111111, \"#46039f\"], [0.2222222222222222, \"#7201a8\"], [0.3333333333333333, \"#9c179e\"], [0.4444444444444444, \"#bd3786\"], [0.5555555555555556, \"#d8576b\"], [0.6666666666666666, \"#ed7953\"], [0.7777777777777778, \"#fb9f3a\"], [0.8888888888888888, \"#fdca26\"], [1.0, \"#f0f921\"]]}, \"colorway\": [\"#636efa\", \"#EF553B\", \"#00cc96\", \"#ab63fa\", \"#FFA15A\", \"#19d3f3\", \"#FF6692\", \"#B6E880\", \"#FF97FF\", \"#FECB52\"], \"font\": {\"color\": \"#2a3f5f\"}, \"geo\": {\"bgcolor\": \"white\", \"lakecolor\": \"white\", \"landcolor\": \"#E5ECF6\", \"showlakes\": true, \"showland\": true, \"subunitcolor\": \"white\"}, \"hoverlabel\": {\"align\": \"left\"}, \"hovermode\": \"closest\", \"mapbox\": {\"style\": \"light\"}, \"paper_bgcolor\": \"white\", \"plot_bgcolor\": \"#E5ECF6\", \"polar\": {\"angularaxis\": {\"gridcolor\": \"white\", \"linecolor\": \"white\", \"ticks\": \"\"}, \"bgcolor\": \"#E5ECF6\", \"radialaxis\": {\"gridcolor\": \"white\", \"linecolor\": \"white\", \"ticks\": \"\"}}, \"scene\": {\"xaxis\": {\"backgroundcolor\": \"#E5ECF6\", \"gridcolor\": \"white\", \"gridwidth\": 2, \"linecolor\": \"white\", \"showbackground\": true, \"ticks\": \"\", \"zerolinecolor\": \"white\"}, \"yaxis\": {\"backgroundcolor\": \"#E5ECF6\", \"gridcolor\": \"white\", \"gridwidth\": 2, \"linecolor\": \"white\", \"showbackground\": true, \"ticks\": \"\", \"zerolinecolor\": \"white\"}, \"zaxis\": {\"backgroundcolor\": \"#E5ECF6\", \"gridcolor\": \"white\", \"gridwidth\": 2, \"linecolor\": \"white\", \"showbackground\": true, \"ticks\": \"\", \"zerolinecolor\": \"white\"}}, \"shapedefaults\": {\"line\": {\"color\": \"#2a3f5f\"}}, \"ternary\": {\"aaxis\": {\"gridcolor\": \"white\", \"linecolor\": \"white\", \"ticks\": \"\"}, \"baxis\": {\"gridcolor\": \"white\", \"linecolor\": \"white\", \"ticks\": \"\"}, \"bgcolor\": \"#E5ECF6\", \"caxis\": {\"gridcolor\": \"white\", \"linecolor\": \"white\", \"ticks\": \"\"}}, \"title\": {\"x\": 0.05}, \"xaxis\": {\"automargin\": true, \"gridcolor\": \"white\", \"linecolor\": \"white\", \"ticks\": \"\", \"title\": {\"standoff\": 15}, \"zerolinecolor\": \"white\", \"zerolinewidth\": 2}, \"yaxis\": {\"automargin\": true, \"gridcolor\": \"white\", \"linecolor\": \"white\", \"ticks\": \"\", \"title\": {\"standoff\": 15}, \"zerolinecolor\": \"white\", \"zerolinewidth\": 2}}}},                        {\"responsive\": true}                    ).then(function(){\n",
       "                            \n",
       "var gd = document.getElementById('3fecc453-ca58-49e2-81a2-448728d19f4c');\n",
       "var x = new MutationObserver(function (mutations, observer) {{\n",
       "        var display = window.getComputedStyle(gd).display;\n",
       "        if (!display || display === 'none') {{\n",
       "            console.log([gd, 'removed!']);\n",
       "            Plotly.purge(gd);\n",
       "            observer.disconnect();\n",
       "        }}\n",
       "}});\n",
       "\n",
       "// Listen for the removal of the full notebook cells\n",
       "var notebookContainer = gd.closest('#notebook-container');\n",
       "if (notebookContainer) {{\n",
       "    x.observe(notebookContainer, {childList: true});\n",
       "}}\n",
       "\n",
       "// Listen for the clearing of the current output cell\n",
       "var outputEl = gd.closest('.output');\n",
       "if (outputEl) {{\n",
       "    x.observe(outputEl, {childList: true});\n",
       "}}\n",
       "\n",
       "                        })                };                });            </script>        </div>"
      ]
     },
     "metadata": {},
     "output_type": "display_data"
    }
   ],
   "source": [
    "import plotly.express as px\n",
    "dd = pd.DataFrame(X1_r)\n",
    "\n",
    "\n",
    "dd['y'] = y1\n",
    "dd['names'] = dd['y'].apply(label_decoder)\n",
    "dd\n",
    "fig = px.scatter_3d(dd,x=0 ,y=1, z=2,\n",
    "              color='names')\n",
    "\n",
    "fig.show()"
   ]
  },
  {
   "cell_type": "code",
   "execution_count": 61,
   "id": "handy-sequence",
   "metadata": {},
   "outputs": [
    {
     "name": "stdout",
     "output_type": "stream",
     "text": [
      "Collecting plotly\n",
      "  Downloading plotly-4.14.3-py2.py3-none-any.whl (13.2 MB)\n",
      "\u001b[K     |████████████████████████████████| 13.2 MB 1.3 MB/s eta 0:00:01\n",
      "\u001b[?25hRequirement already satisfied: six in /Users/hasaniperera/opt/anaconda3/lib/python3.8/site-packages (from plotly) (1.15.0)\n",
      "Collecting retrying>=1.3.3\n",
      "  Downloading retrying-1.3.3.tar.gz (10 kB)\n",
      "Building wheels for collected packages: retrying\n",
      "  Building wheel for retrying (setup.py) ... \u001b[?25ldone\n",
      "\u001b[?25h  Created wheel for retrying: filename=retrying-1.3.3-py3-none-any.whl size=11429 sha256=94c13f303dc23231a04465e8c26d6f7f7859df81deeb574bb06319d7fe4d12db\n",
      "  Stored in directory: /Users/hasaniperera/Library/Caches/pip/wheels/c4/a7/48/0a434133f6d56e878ca511c0e6c38326907c0792f67b476e56\n",
      "Successfully built retrying\n",
      "Installing collected packages: retrying, plotly\n",
      "Successfully installed plotly-4.14.3 retrying-1.3.3\n"
     ]
    }
   ],
   "source": [
    "python -m pip install plotly"
   ]
  },
  {
   "cell_type": "code",
   "execution_count": null,
   "id": "alien-healing",
   "metadata": {},
   "outputs": [],
   "source": []
  }
 ],
 "metadata": {
  "kernelspec": {
   "display_name": "Python 3",
   "language": "python",
   "name": "python3"
  },
  "language_info": {
   "codemirror_mode": {
    "name": "ipython",
    "version": 3
   },
   "file_extension": ".py",
   "mimetype": "text/x-python",
   "name": "python",
   "nbconvert_exporter": "python",
   "pygments_lexer": "ipython3",
   "version": "3.8.5"
  }
 },
 "nbformat": 4,
 "nbformat_minor": 5
}
